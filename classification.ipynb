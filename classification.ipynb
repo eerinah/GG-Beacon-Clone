{
  "cells": [
    {
      "cell_type": "code",
      "execution_count": 1,
      "metadata": {
        "id": "R_mOBdRxcWyB",
        "colab": {
          "base_uri": "https://localhost:8080/"
        },
        "outputId": "addd33ac-ee9b-4cee-e6de-bb2ec10e1f18"
      },
      "outputs": [
        {
          "output_type": "stream",
          "name": "stderr",
          "text": [
            "[nltk_data] Downloading package stopwords to /root/nltk_data...\n",
            "[nltk_data]   Package stopwords is already up-to-date!\n",
            "[nltk_data] Downloading package punkt to /root/nltk_data...\n",
            "[nltk_data]   Package punkt is already up-to-date!\n"
          ]
        }
      ],
      "source": [
        "import math\n",
        "import string\n",
        "import re\n",
        "\n",
        "import pandas as pd \n",
        "import numpy as np\n",
        "import matplotlib.pyplot as plt\n",
        "\n",
        "import nltk\n",
        "from nltk.stem.porter import PorterStemmer\n",
        "from nltk.corpus import stopwords\n",
        "from nltk.tokenize import word_tokenize\n",
        "\n",
        "from sklearn.pipeline import Pipeline\n",
        "from sklearn.feature_extraction.text import TfidfVectorizer\n",
        "from sklearn.model_selection import train_test_split\n",
        "\n",
        "\n",
        "from sklearn.tree import DecisionTreeClassifier\n",
        "\n",
        "from sklearn.linear_model import SGDClassifier\n",
        "from sklearn.naive_bayes import MultinomialNB\n",
        "from sklearn.ensemble import RandomForestClassifier\n",
        "from sklearn.linear_model import LogisticRegression\n",
        "from sklearn.model_selection import cross_val_score\n",
        "from sklearn.metrics import classification_report\n",
        "from sklearn.metrics import precision_recall_fscore_support\n",
        "\n",
        "nltk.download('stopwords')\n",
        "nltk.download('punkt')\n",
        "\n",
        "RAND_STATE = 1"
      ]
    },
    {
      "cell_type": "code",
      "execution_count": 2,
      "metadata": {
        "colab": {
          "base_uri": "https://localhost:8080/"
        },
        "id": "gChSd6XbccoQ",
        "outputId": "9008b183-15dd-4128-a49f-dffd64433258"
      },
      "outputs": [
        {
          "output_type": "stream",
          "name": "stdout",
          "text": [
            "Drive already mounted at /content/gdrive; to attempt to forcibly remount, call drive.mount(\"/content/gdrive\", force_remount=True).\n"
          ]
        }
      ],
      "source": [
        "from google.colab import drive \n",
        "drive.mount('/content/gdrive')"
      ]
    },
    {
      "cell_type": "markdown",
      "metadata": {
        "id": "izyMJoa61qR6"
      },
      "source": [
        "**Read in the input data**\n",
        "\n",
        "Class labels are \n",
        "\n",
        "0 - Neutral \n",
        "\n",
        "1 - Hate\n",
        "\n",
        "2 - Depression\n",
        "\n",
        "3 - Suicidal"
      ]
    },
    {
      "cell_type": "code",
      "execution_count": 3,
      "metadata": {
        "id": "boCkJm41cp8c",
        "colab": {
          "base_uri": "https://localhost:8080/",
          "height": 419
        },
        "outputId": "68808494-20eb-4811-9e72-b90d7a373937"
      },
      "outputs": [
        {
          "output_type": "execute_result",
          "data": {
            "text/plain": [
              "        Unnamed: 0                                               text  class\n",
              "0                0  According to an aspect of the present inventio...      0\n",
              "1                1  In the anisotropic conductive film of the pres...      0\n",
              "2                2  Canadian Judges to be Trained to omiss White R...      0\n",
              "3                3  According to a process and an equipment for re...      0\n",
              "4                4                          being a k i k e must SUCK      1\n",
              "...            ...                                                ...    ...\n",
              "148705      148705  According to the present invention, it is poss...      0\n",
              "148706      148706  Im not sure. I think that those photos are bot...      0\n",
              "148707      148707  As described above, the heat pump system for t...      0\n",
              "148708      148708  According to the present invention, microscopi...      0\n",
              "148709      148709  I am just thrilled to have normal, straight so...      1\n",
              "\n",
              "[148710 rows x 3 columns]"
            ],
            "text/html": [
              "\n",
              "  <div id=\"df-60cf12a6-a00d-415e-88ec-c4779a9d4769\">\n",
              "    <div class=\"colab-df-container\">\n",
              "      <div>\n",
              "<style scoped>\n",
              "    .dataframe tbody tr th:only-of-type {\n",
              "        vertical-align: middle;\n",
              "    }\n",
              "\n",
              "    .dataframe tbody tr th {\n",
              "        vertical-align: top;\n",
              "    }\n",
              "\n",
              "    .dataframe thead th {\n",
              "        text-align: right;\n",
              "    }\n",
              "</style>\n",
              "<table border=\"1\" class=\"dataframe\">\n",
              "  <thead>\n",
              "    <tr style=\"text-align: right;\">\n",
              "      <th></th>\n",
              "      <th>Unnamed: 0</th>\n",
              "      <th>text</th>\n",
              "      <th>class</th>\n",
              "    </tr>\n",
              "  </thead>\n",
              "  <tbody>\n",
              "    <tr>\n",
              "      <th>0</th>\n",
              "      <td>0</td>\n",
              "      <td>According to an aspect of the present inventio...</td>\n",
              "      <td>0</td>\n",
              "    </tr>\n",
              "    <tr>\n",
              "      <th>1</th>\n",
              "      <td>1</td>\n",
              "      <td>In the anisotropic conductive film of the pres...</td>\n",
              "      <td>0</td>\n",
              "    </tr>\n",
              "    <tr>\n",
              "      <th>2</th>\n",
              "      <td>2</td>\n",
              "      <td>Canadian Judges to be Trained to omiss White R...</td>\n",
              "      <td>0</td>\n",
              "    </tr>\n",
              "    <tr>\n",
              "      <th>3</th>\n",
              "      <td>3</td>\n",
              "      <td>According to a process and an equipment for re...</td>\n",
              "      <td>0</td>\n",
              "    </tr>\n",
              "    <tr>\n",
              "      <th>4</th>\n",
              "      <td>4</td>\n",
              "      <td>being a k i k e must SUCK</td>\n",
              "      <td>1</td>\n",
              "    </tr>\n",
              "    <tr>\n",
              "      <th>...</th>\n",
              "      <td>...</td>\n",
              "      <td>...</td>\n",
              "      <td>...</td>\n",
              "    </tr>\n",
              "    <tr>\n",
              "      <th>148705</th>\n",
              "      <td>148705</td>\n",
              "      <td>According to the present invention, it is poss...</td>\n",
              "      <td>0</td>\n",
              "    </tr>\n",
              "    <tr>\n",
              "      <th>148706</th>\n",
              "      <td>148706</td>\n",
              "      <td>Im not sure. I think that those photos are bot...</td>\n",
              "      <td>0</td>\n",
              "    </tr>\n",
              "    <tr>\n",
              "      <th>148707</th>\n",
              "      <td>148707</td>\n",
              "      <td>As described above, the heat pump system for t...</td>\n",
              "      <td>0</td>\n",
              "    </tr>\n",
              "    <tr>\n",
              "      <th>148708</th>\n",
              "      <td>148708</td>\n",
              "      <td>According to the present invention, microscopi...</td>\n",
              "      <td>0</td>\n",
              "    </tr>\n",
              "    <tr>\n",
              "      <th>148709</th>\n",
              "      <td>148709</td>\n",
              "      <td>I am just thrilled to have normal, straight so...</td>\n",
              "      <td>1</td>\n",
              "    </tr>\n",
              "  </tbody>\n",
              "</table>\n",
              "<p>148710 rows × 3 columns</p>\n",
              "</div>\n",
              "      <button class=\"colab-df-convert\" onclick=\"convertToInteractive('df-60cf12a6-a00d-415e-88ec-c4779a9d4769')\"\n",
              "              title=\"Convert this dataframe to an interactive table.\"\n",
              "              style=\"display:none;\">\n",
              "        \n",
              "  <svg xmlns=\"http://www.w3.org/2000/svg\" height=\"24px\"viewBox=\"0 0 24 24\"\n",
              "       width=\"24px\">\n",
              "    <path d=\"M0 0h24v24H0V0z\" fill=\"none\"/>\n",
              "    <path d=\"M18.56 5.44l.94 2.06.94-2.06 2.06-.94-2.06-.94-.94-2.06-.94 2.06-2.06.94zm-11 1L8.5 8.5l.94-2.06 2.06-.94-2.06-.94L8.5 2.5l-.94 2.06-2.06.94zm10 10l.94 2.06.94-2.06 2.06-.94-2.06-.94-.94-2.06-.94 2.06-2.06.94z\"/><path d=\"M17.41 7.96l-1.37-1.37c-.4-.4-.92-.59-1.43-.59-.52 0-1.04.2-1.43.59L10.3 9.45l-7.72 7.72c-.78.78-.78 2.05 0 2.83L4 21.41c.39.39.9.59 1.41.59.51 0 1.02-.2 1.41-.59l7.78-7.78 2.81-2.81c.8-.78.8-2.07 0-2.86zM5.41 20L4 18.59l7.72-7.72 1.47 1.35L5.41 20z\"/>\n",
              "  </svg>\n",
              "      </button>\n",
              "      \n",
              "  <style>\n",
              "    .colab-df-container {\n",
              "      display:flex;\n",
              "      flex-wrap:wrap;\n",
              "      gap: 12px;\n",
              "    }\n",
              "\n",
              "    .colab-df-convert {\n",
              "      background-color: #E8F0FE;\n",
              "      border: none;\n",
              "      border-radius: 50%;\n",
              "      cursor: pointer;\n",
              "      display: none;\n",
              "      fill: #1967D2;\n",
              "      height: 32px;\n",
              "      padding: 0 0 0 0;\n",
              "      width: 32px;\n",
              "    }\n",
              "\n",
              "    .colab-df-convert:hover {\n",
              "      background-color: #E2EBFA;\n",
              "      box-shadow: 0px 1px 2px rgba(60, 64, 67, 0.3), 0px 1px 3px 1px rgba(60, 64, 67, 0.15);\n",
              "      fill: #174EA6;\n",
              "    }\n",
              "\n",
              "    [theme=dark] .colab-df-convert {\n",
              "      background-color: #3B4455;\n",
              "      fill: #D2E3FC;\n",
              "    }\n",
              "\n",
              "    [theme=dark] .colab-df-convert:hover {\n",
              "      background-color: #434B5C;\n",
              "      box-shadow: 0px 1px 3px 1px rgba(0, 0, 0, 0.15);\n",
              "      filter: drop-shadow(0px 1px 2px rgba(0, 0, 0, 0.3));\n",
              "      fill: #FFFFFF;\n",
              "    }\n",
              "  </style>\n",
              "\n",
              "      <script>\n",
              "        const buttonEl =\n",
              "          document.querySelector('#df-60cf12a6-a00d-415e-88ec-c4779a9d4769 button.colab-df-convert');\n",
              "        buttonEl.style.display =\n",
              "          google.colab.kernel.accessAllowed ? 'block' : 'none';\n",
              "\n",
              "        async function convertToInteractive(key) {\n",
              "          const element = document.querySelector('#df-60cf12a6-a00d-415e-88ec-c4779a9d4769');\n",
              "          const dataTable =\n",
              "            await google.colab.kernel.invokeFunction('convertToInteractive',\n",
              "                                                     [key], {});\n",
              "          if (!dataTable) return;\n",
              "\n",
              "          const docLinkHtml = 'Like what you see? Visit the ' +\n",
              "            '<a target=\"_blank\" href=https://colab.research.google.com/notebooks/data_table.ipynb>data table notebook</a>'\n",
              "            + ' to learn more about interactive tables.';\n",
              "          element.innerHTML = '';\n",
              "          dataTable['output_type'] = 'display_data';\n",
              "          await google.colab.output.renderOutput(dataTable, element);\n",
              "          const docLink = document.createElement('div');\n",
              "          docLink.innerHTML = docLinkHtml;\n",
              "          element.appendChild(docLink);\n",
              "        }\n",
              "      </script>\n",
              "    </div>\n",
              "  </div>\n",
              "  "
            ]
          },
          "metadata": {},
          "execution_count": 3
        }
      ],
      "source": [
        "input_fn = 'gdrive/My Drive/COEN140/group-project/data/train.csv'\n",
        "preprocessed_fn = 'gdrive/My Drive/COEN140/group-project/data/preprocessed.csv'\n",
        "df = pd.read_csv(input_fn)\n",
        "df"
      ]
    },
    {
      "cell_type": "markdown",
      "metadata": {
        "id": "TCEdPNwIU5fa"
      },
      "source": [
        "# Pre-processing\n",
        "Given a DataFrame of documents and their associated class labels, clean the text in the documents by removing punctuation and words less than 4 letters (other than \"I\" and \"me\"). Then, stem the words in each document. Finally, create a CSR matrix by vectorizing the words using Count Vectorizer and using tdif for Inverse Document Frequency.\n",
        "\n",
        "\n",
        "---\n",
        "\n",
        "\n",
        "Although pronouns like \"I\", \"me\" and \"myself\" are considered to be \"stop-words\", these words are important to give context to a document to distinguish between hate and depression. \n",
        "\n",
        "\n",
        "\n",
        "> For example: \"I hate myself\" becomes \"hate\" after filtering stop words, which would be incorrectly classified as hate, rather than as depression."
      ]
    },
    {
      "cell_type": "code",
      "execution_count": 4,
      "metadata": {
        "id": "zjsvL2N8UnNL"
      },
      "outputs": [],
      "source": [
        "# split feature matrix and class labels\n",
        "docs = df['text']\n",
        "classes = df['class']"
      ]
    },
    {
      "cell_type": "code",
      "source": [
        "# remove certain pronouns from stop words to give more context \n",
        "sw_nltk = stopwords.words('english')\n",
        "pronouns = ['i', 'me', 'myself', 'my','you','your','yours','yourself', \n",
        "            'yourselves','he','him','his','himself','she',\"she's\",'her',\n",
        "            'hers','herself']\n",
        "sw_nltk = [w for w in sw_nltk if w not in pronouns]\n",
        "\n",
        "# stemmer\n",
        "s = PorterStemmer()"
      ],
      "metadata": {
        "id": "8CaCPnb_Bgr5"
      },
      "execution_count": 5,
      "outputs": []
    },
    {
      "cell_type": "code",
      "source": [
        "def text_pre_processing(input_string):\n",
        "    \"\"\" Given a document (a string), a set of stopwords, and a stemmer,\n",
        "    preprocess the document by removing punctuation, extra whitespace, \n",
        "    and stop words and return the preprocessed document. \"\"\"\n",
        "\n",
        "    stop_words = set(sw_nltk)\n",
        "    pattern = r'\\b(' + r'|'.join(stop_words) + r')\\b\\s*'\n",
        "\n",
        "\n",
        "    # remove punctuation\n",
        "    text = re.sub('[%s]' % re.escape(string.punctuation), ' ', input_string)\n",
        "\n",
        "    # remove stopwords\n",
        "    words = re.sub(pattern, '', text.lower(), flags=re.IGNORECASE)\n",
        "\n",
        "    # remove extra whitespace\n",
        "    words = re.sub('\\s+', ' ', words).strip()\n",
        "\n",
        "    words = words.split()\n",
        "    words = ' '.join([s.stem(w) for w in words])\n",
        "    return words"
      ],
      "metadata": {
        "id": "kEIFg3hTP3_U"
      },
      "execution_count": 6,
      "outputs": []
    },
    {
      "cell_type": "code",
      "source": [
        "pp_docs = [text_pre_processing(d) for d in docs]"
      ],
      "metadata": {
        "id": "J1HRT-0kQBsw"
      },
      "execution_count": 7,
      "outputs": []
    },
    {
      "cell_type": "markdown",
      "source": [
        "The entire input data will be fit to the same matrix to make sure that the training set and testing set will be in the same Euclidean space after the input data is split. We decided to not use TF-IDF\n"
      ],
      "metadata": {
        "id": "ESc1YCPw5t94"
      }
    },
    {
      "cell_type": "code",
      "source": [
        "# Creates a inverse document frequency matrix from the pre-processed documents\n",
        "vectorizer = TfidfVectorizer().fit(pp_docs)"
      ],
      "metadata": {
        "id": "FmnXSJNy53aS"
      },
      "execution_count": 8,
      "outputs": []
    },
    {
      "cell_type": "code",
      "execution_count": 9,
      "metadata": {
        "id": "fvJf_pjNqQgt"
      },
      "outputs": [],
      "source": [
        "# split the input data into training and testing sets using a 70/30 split\n",
        "docs_train, docs_test, cls_train, cls_test = train_test_split(pp_docs, classes, \n",
        "        train_size=0.7, test_size=0.3 , shuffle=True, random_state=RAND_STATE)\n",
        "\n",
        "# transform the training set and testing set into a tfidf matrix\n",
        "docs_train = vectorizer.transform(docs_train)\n",
        "docs_test = vectorizer.transform(docs_test)"
      ]
    },
    {
      "cell_type": "markdown",
      "metadata": {
        "id": "tJZ-6HKRQckW"
      },
      "source": [
        "# Model Selection "
      ]
    },
    {
      "cell_type": "markdown",
      "source": [
        "**Model Scoring**\n",
        "\n",
        "We're using [sklearn's balanced accuracy score](https://scikit-learn.org/stable/modules/generated/sklearn.metrics.balanced_accuracy_score.html) to compare models because the dataset is inherently imbalanced. The class of neutral data (label 0) is overrepresented because in reality, most text is neutral. However, we want to correctly predict the underrepresented classes. The score is defined as the average recall across each class."
      ],
      "metadata": {
        "id": "TKqsu7mF8sS_"
      }
    },
    {
      "cell_type": "code",
      "execution_count": 10,
      "metadata": {
        "id": "kiIpR_vcUKnv"
      },
      "outputs": [],
      "source": [
        "def score_models(models, docs_train, cls_train, score='balanced_accuracy'): \n",
        "  \"\"\" Given a list of models, training set documents and training set class\n",
        "  labels, return a list of the best models based on balanced accuracy using\n",
        "  k-fold cross validation and their associated scores \"\"\"\n",
        "  scores = []\n",
        "  for m in models: \n",
        "\n",
        "    # take the average balanced accuracy score for the model \n",
        "    # across k-fold cross validation\n",
        "    scores.append((m, np.mean(cross_val_score(m, X=docs_train, y=cls_train, \n",
        "                                              scoring=score))))\n",
        "  \n",
        "  # sort the scores by the model with the highest accuracy \n",
        "  scores.sort(key=lambda x: x[1], reverse=True)\n",
        "  return scores "
      ]
    },
    {
      "cell_type": "code",
      "source": [
        "# keep track of the best models in a list \n",
        "best_models = []"
      ],
      "metadata": {
        "id": "fO_Fj0BpGmUf"
      },
      "execution_count": 11,
      "outputs": []
    },
    {
      "cell_type": "markdown",
      "metadata": {
        "id": "zw1UJC8i3RUg"
      },
      "source": [
        "**Support Vector Machine (SVM)**"
      ]
    },
    {
      "cell_type": "markdown",
      "metadata": {
        "id": "6nydTJM0J1F3"
      },
      "source": [
        "Classifying Using SVM with No Parameter Tuning"
      ]
    },
    {
      "cell_type": "code",
      "execution_count": 12,
      "metadata": {
        "colab": {
          "base_uri": "https://localhost:8080/"
        },
        "id": "19PnOUB8w6PH",
        "outputId": "2bfcc83c-28eb-4acc-f2fa-99fac179b9e0"
      },
      "outputs": [
        {
          "output_type": "stream",
          "name": "stdout",
          "text": [
            "SVM with no parameter tuning accuracy score: 0.866644 \n",
            "SVM with no parameter tuning balanced accuracy score: 0.497735 \n"
          ]
        }
      ],
      "source": [
        "svm = SGDClassifier(loss='hinge', penalty='l2',alpha=1e-3, \n",
        "                    random_state=RAND_STATE, max_iter=5, tol=None)\n",
        "print(f'SVM with no parameter tuning accuracy score: %.6f ' \n",
        "      % score_models([svm], docs_train, cls_train, score='accuracy')[0][1])\n",
        "\n",
        "print(f'SVM with no parameter tuning balanced accuracy score: %.6f ' \n",
        "      % score_models([svm], docs_train,cls_train)[0][1])"
      ]
    },
    {
      "cell_type": "code",
      "execution_count": 14,
      "metadata": {
        "colab": {
          "base_uri": "https://localhost:8080/"
        },
        "id": "ssM7bOa_3pvl",
        "outputId": "39196a57-5d5e-496d-c6f7-2c31452f9585"
      },
      "outputs": [
        {
          "output_type": "stream",
          "name": "stdout",
          "text": [
            "best SVM model SGDClassifier(alpha=1e-05, max_iter=5, penalty='l1', random_state=1, tol=None), balanced accuracy score: 0.689554\n"
          ]
        }
      ],
      "source": [
        "def get_best_svm(docs_train, cls_train): \n",
        "  \"\"\" Given a training set of documents and their class labels, \n",
        "  return a list of SVM models sorted by best balanced accuracy score \"\"\"\n",
        "\n",
        "  alpha_range = [1e-1, 1e-3, 1e-5, 1e-7]\n",
        "  penalty_range = ['l2', 'l1', 'elasticnet']\n",
        "\n",
        "\n",
        "  # linear SVM with stochastic gradient descent \n",
        "  svm_models = [SGDClassifier(loss='hinge', penalty=p,alpha=a, \n",
        "                              random_state=RAND_STATE, max_iter=5, tol=None) \n",
        "  for a in alpha_range\n",
        "  for p in penalty_range ]\n",
        "\n",
        "  return score_models(svm_models, docs_train, cls_train)\n",
        "\n",
        "best_svm = get_best_svm(docs_train, cls_train)[0]\n",
        "best_models.append(best_svm)\n",
        "print(f'best SVM model {best_svm[0]}, balanced accuracy score: %.6f' % best_svm[1])"
      ]
    },
    {
      "cell_type": "markdown",
      "metadata": {
        "id": "b-hyP40q24Gs"
      },
      "source": [
        "**Naive Bayes Classifier**"
      ]
    },
    {
      "cell_type": "code",
      "execution_count": 15,
      "metadata": {
        "colab": {
          "base_uri": "https://localhost:8080/"
        },
        "id": "rdsaYgbw26h7",
        "outputId": "d50fdc27-1504-4382-d148-997bcf0d81bb"
      },
      "outputs": [
        {
          "output_type": "stream",
          "name": "stdout",
          "text": [
            "Naive Bayes with no parameter tuning accuracy score: 0.875318 \n",
            "Naive Bayes with no parameter tuning balanced accuracy score: 0.612116\n"
          ]
        }
      ],
      "source": [
        "nb = MultinomialNB()\n",
        "print(f'Naive Bayes with no parameter tuning accuracy score: %.6f ' \n",
        "      % score_models([nb], docs_train, cls_train, score='accuracy')[0][1])\n",
        "print(f'Naive Bayes with no parameter tuning balanced accuracy score: %.6f' \n",
        "      % score_models([nb], docs_train, cls_train)[0][1])"
      ]
    },
    {
      "cell_type": "code",
      "execution_count": 16,
      "metadata": {
        "colab": {
          "base_uri": "https://localhost:8080/"
        },
        "id": "IZWH6MdUSS_H",
        "outputId": "753302ee-8937-4e85-8a0c-50893fff8b38"
      },
      "outputs": [
        {
          "output_type": "stream",
          "name": "stdout",
          "text": [
            "best Naive Bayes model MultinomialNB(alpha=0.1), balanced accuracy score: 0.775455\n"
          ]
        }
      ],
      "source": [
        "np.seterr(divide = 'ignore')  # ignore divide by zero \n",
        "def get_best_nb(docs_train, cls_train): \n",
        "  \"\"\" Given a training set of documents and their class labels, \n",
        "  return a list of Multinomial Naive Bayes models \n",
        "  sorted by best balanced accuracy score \"\"\"\n",
        "\n",
        "  alpha_range = [2, 1, 1e-1, 1e-3, 1e-5]\n",
        "  nb_models = [MultinomialNB(alpha=a) for a in alpha_range ]\n",
        "\n",
        "  # Naive Bayes with no smoothing\n",
        "  nb_models.append(MultinomialNB(alpha=0, force_alpha=True))\n",
        "\n",
        "  return score_models(nb_models, docs_train, cls_train)\n",
        "\n",
        "best_nb = get_best_nb(docs_train, cls_train)[0]\n",
        "best_models.append(best_nb)\n",
        "print(f'best Naive Bayes model {best_nb[0]}, balanced accuracy score: %.6f'\n",
        "         % best_nb[1] )"
      ]
    },
    {
      "cell_type": "markdown",
      "source": [
        "**Decision Tree Classifier**\n",
        "\n",
        "Tree-Based Classifiers are not practical because there are too many features for the algorithm to split on."
      ],
      "metadata": {
        "id": "6g72ck_7cINI"
      }
    },
    {
      "cell_type": "code",
      "source": [
        "# dtc = DecisionTreeClassifier(random_state=0)\n",
        "# print(f'Decision Tree with no parameter tuning accuracy score: %.6f ' \n",
        "#       % score_models([dtc], docs_train, cls_train, score='accuracy')[0][1])\n",
        "# print(f'Decision Tree with no parameter tuning balanced accuracy score: %.6f' \n",
        "#       % score_models([dtc], docs_train, cls_train)[0][1])"
      ],
      "metadata": {
        "id": "cS1AyjNZoSvu"
      },
      "execution_count": 31,
      "outputs": []
    },
    {
      "cell_type": "code",
      "source": [
        "# def get_best_dtc(docs_train, cls_train):\n",
        "#   \"\"\" Given a training set of documents and their class labels, \n",
        "#   return a list of Decision Tree Classifier models \n",
        "#   sorted by best balanced accuracy score \"\"\" \n",
        "#   depth_range = (None, 1, 10, 20, 50)\n",
        "#   leaf_samples_range = (1, 10, 20, 50)\n",
        "#   impurity_decrease_range = range(0,5)\n",
        "#   dtc_models = [  DecisionTreeClassifier(random_state=0, \n",
        "#                       max_depth=d, min_samples_leaf=l, min_impurity_decrease=i) \n",
        "#   for i in impurity_decrease_range  \n",
        "#   for l in leaf_samples_range \n",
        "#   for d in depth_range ]\n",
        "\n",
        "#   return score_models(dtc_models, docs_train, cls_train)\n",
        "\n",
        "\n",
        "\n",
        "# best_dtc = get_best_dtc(docs_train, cls_train)[0]\n",
        "# best_models.append(best_dtc)\n",
        "# print(f'best Decision Tree Classifier model {best_dtc[0]}, balanced accuracy score: %.6f'\n",
        "#          % best_dtc[1] )"
      ],
      "metadata": {
        "id": "JeOFnK9GZp3m"
      },
      "execution_count": 32,
      "outputs": []
    },
    {
      "cell_type": "markdown",
      "source": [
        "**Logistic Regression**"
      ],
      "metadata": {
        "id": "9TaLTaE1861e"
      }
    },
    {
      "cell_type": "code",
      "source": [
        "reg = LogisticRegression(max_iter=500)\n",
        "print(f'Logistic Regression with no parameter tuning accuracy score: %.6f ' \n",
        "      % score_models([reg], docs_train, cls_train, score='accuracy')[0][1])\n",
        "print(f'Logistic Regression with no parameter tuning balanced accuracy score: %.6f' \n",
        "      % score_models([reg], docs_train, cls_train)[0][1])"
      ],
      "metadata": {
        "colab": {
          "base_uri": "https://localhost:8080/"
        },
        "id": "1kITEUHP8t2u",
        "outputId": "70171fcf-6ada-41d1-d488-5dcc7025310e"
      },
      "execution_count": 17,
      "outputs": [
        {
          "output_type": "stream",
          "name": "stdout",
          "text": [
            "Logistic Regression with no parameter tuning accuracy score: 0.900237 \n",
            "Logistic Regression with no parameter tuning balanced accuracy score: 0.681253\n"
          ]
        }
      ]
    },
    {
      "cell_type": "code",
      "source": [
        "def get_best_lreg(docs_train, cls_train): \n",
        "  \"\"\" Given a training set of documents and their class labels, \n",
        "  return a list of Logistic Regression models \n",
        "  sorted by best balanced accuracy score \"\"\"\n",
        "  \n",
        "  solvers = ['newton-cg', 'sag', 'saga']\n",
        "\n",
        "  reg_models = [LogisticRegression(solver=s, max_iter=500) \n",
        "  for s in solvers]\n",
        "  return score_models(reg_models, docs_train, cls_train)\n",
        "\n",
        "best_reg = get_best_lreg(docs_train, cls_train)[0]\n",
        "best_models.append(best_reg)\n",
        "print(f'best Logistic Regression model {best_reg[0]}, balanced accuracy score: %.6f'\n",
        "         % best_reg[1] )"
      ],
      "metadata": {
        "colab": {
          "base_uri": "https://localhost:8080/"
        },
        "id": "ERQy5ozwA4Hy",
        "outputId": "6e6bbec1-9171-42ed-e69a-3a1d2d68206a"
      },
      "execution_count": 27,
      "outputs": [
        {
          "output_type": "stream",
          "name": "stdout",
          "text": [
            "best Logistic Regression model LogisticRegression(max_iter=500, solver='saga'), balanced accuracy score: 0.681395\n"
          ]
        }
      ]
    },
    {
      "cell_type": "markdown",
      "source": [
        "# Model Evaluation"
      ],
      "metadata": {
        "id": "KMk3w7GGcyjx"
      }
    },
    {
      "cell_type": "markdown",
      "source": [
        "Sort the best models in descending order by balanced accuracy scores"
      ],
      "metadata": {
        "id": "T6uhlAG_aqEk"
      }
    },
    {
      "cell_type": "code",
      "source": [
        "best_models.sort(key=lambda x: x[1], reverse=True)\n",
        "best_models"
      ],
      "metadata": {
        "colab": {
          "base_uri": "https://localhost:8080/"
        },
        "id": "cHI4YyiFapvE",
        "outputId": "a85dc564-2b84-46ba-8cde-33f24c96f243"
      },
      "execution_count": 28,
      "outputs": [
        {
          "output_type": "execute_result",
          "data": {
            "text/plain": [
              "[(MultinomialNB(alpha=0.1), 0.7754553784933732),\n",
              " (SGDClassifier(alpha=1e-05, max_iter=5, penalty='l1', random_state=1, tol=None),\n",
              "  0.689553946406579),\n",
              " (LogisticRegression(max_iter=500, solver='saga'), 0.6813945194323905)]"
            ]
          },
          "metadata": {},
          "execution_count": 28
        }
      ]
    },
    {
      "cell_type": "markdown",
      "source": [
        "**Classifying the Documents in the Test Set** (according to balanced accuracy score)"
      ],
      "metadata": {
        "id": "vAqTErbQIjk7"
      }
    },
    {
      "cell_type": "code",
      "source": [
        "def classify_test_docs(model):\n",
        "  \"\"\" Given a classifer model, return the predicted\n",
        "  class labels for the test set \"\"\"\n",
        "\n",
        "  model.fit(docs_train, cls_train)\n",
        "  return model.predict(docs_test)\n",
        "\n",
        "# classify the validation set using the best model and \n",
        "# display the classification report, which shows metrics for each class \n",
        "print(classification_report(cls_test, classify_test_docs(best_models[0][0])))\n",
        "print(best_models[0][0])"
      ],
      "metadata": {
        "colab": {
          "base_uri": "https://localhost:8080/"
        },
        "id": "qKWhRQWKHK9g",
        "outputId": "91c23a8e-cf9e-456e-e7ee-c564ad80941b"
      },
      "execution_count": 30,
      "outputs": [
        {
          "output_type": "stream",
          "name": "stdout",
          "text": [
            "              precision    recall  f1-score   support\n",
            "\n",
            "           0       0.99      0.87      0.93     35569\n",
            "           1       0.41      0.85      0.55      3021\n",
            "           2       0.59      0.74      0.66      3011\n",
            "           3       0.60      0.65      0.63      3012\n",
            "\n",
            "    accuracy                           0.85     44613\n",
            "   macro avg       0.65      0.78      0.69     44613\n",
            "weighted avg       0.90      0.85      0.86     44613\n",
            "\n",
            "MultinomialNB(alpha=0.1)\n"
          ]
        }
      ]
    },
    {
      "cell_type": "markdown",
      "source": [
        "**Visualizing Precision, Recall, and F-beta Score**"
      ],
      "metadata": {
        "id": "COrGFPJ1OE1O"
      }
    },
    {
      "cell_type": "code",
      "source": [
        "model_names = [m[0] for m in best_models]\n",
        "reports = []\n",
        "for m in best_models:\n",
        "   m[0].fit(docs_train, cls_train)\n",
        "   y_pred = m[0].predict(docs_test)\n",
        "   reports.append(precision_recall_fscore_support(cls_test, y_pred))"
      ],
      "metadata": {
        "id": "UuxAHOVxdCZA"
      },
      "execution_count": 29,
      "outputs": []
    },
    {
      "cell_type": "code",
      "source": [
        "def compare_models(reports, score): \n",
        "  score_idx = 0\n",
        "  match score: \n",
        "    case 'precision': \n",
        "      score_idx = 0\n",
        "    case 'recall': \n",
        "      score_idx = 1\n",
        "    case 'f1-beta': \n",
        "      score_idx = 2\n",
        "    case 'support': \n",
        "      score_idx = 3\n",
        "    case _: \n",
        "      score_idx = 0\n",
        "  \n",
        "  class_names = ['normal', 'hateful', 'depressed', 'suicidal']\n",
        "  models_precision = [rep[score_idx] for rep in reports]\n",
        "  class_models_precision = dict(zip(model_names,\n",
        "                                    np.asarray([rep[score_idx] \n",
        "                                                for rep in reports])))\n",
        "\n",
        "\n",
        "  x = np.arange(len(class_names))  # the label locations\n",
        "  width = 0.30  # the width of the bars\n",
        "  multiplier = 0\n",
        "\n",
        "  fig, ax = plt.subplots(layout='constrained')\n",
        "\n",
        "  for attribute, measurement in class_models_precision.items():\n",
        "      offset = width * multiplier\n",
        "      rects = ax.bar(x + offset, measurement, width, label=attribute)\n",
        "      ax.bar_label(rects, padding=3)\n",
        "      multiplier += 1\n",
        "\n",
        "  # Add some text for labels, title and custom x-axis tick labels, etc.\n",
        "  ax.set_ylabel(score)\n",
        "  ax.set_title(f'{score} of models by class')\n",
        "  ax.set_xticks(x + width, class_names)\n",
        "  ax.legend(loc='upper left', ncols=3)\n",
        "  ax.set_ylim(0, 1.2)\n",
        "\n",
        "  plt.show()"
      ],
      "metadata": {
        "id": "Po3WQRQt0P-O"
      },
      "execution_count": 44,
      "outputs": []
    },
    {
      "cell_type": "markdown",
      "source": [
        "Precision is the ability of the classifier not to label as positive a sample that is negative."
      ],
      "metadata": {
        "id": "2fWrmPsHax8-"
      }
    },
    {
      "cell_type": "code",
      "source": [
        "compare_models(reports, 'precision')"
      ],
      "metadata": {
        "colab": {
          "base_uri": "https://localhost:8080/",
          "height": 377
        },
        "id": "CNQUSqHt1aJ4",
        "outputId": "c3c4b297-449b-4f19-9030-233260116d9a"
      },
      "execution_count": 45,
      "outputs": [
        {
          "output_type": "display_data",
          "data": {
            "text/plain": [
              "<Figure size 5000x1000 with 0 Axes>"
            ]
          },
          "metadata": {}
        },
        {
          "output_type": "display_data",
          "data": {
            "text/plain": [
              "<Figure size 640x480 with 1 Axes>"
            ],
            "image/png": "[encoded data removed]"
          },
          "metadata": {}
        }
      ]
    },
    {
      "cell_type": "markdown",
      "source": [
        "Recall is the ability of the classifier to find all the positive samples."
      ],
      "metadata": {
        "id": "ODFmY2naa3Lv"
      }
    },
    {
      "cell_type": "code",
      "source": [
        "compare_models(reports, 'recall')"
      ],
      "metadata": {
        "colab": {
          "base_uri": "https://localhost:8080/",
          "height": 431
        },
        "id": "A5uIEeIf1isB",
        "outputId": "ea4ddbbb-3a45-4ee8-ccba-22b81518e119"
      },
      "execution_count": 46,
      "outputs": [
        {
          "output_type": "display_data",
          "data": {
            "text/plain": [
              "<Figure size 5000x1000 with 0 Axes>"
            ]
          },
          "metadata": {}
        },
        {
          "output_type": "stream",
          "name": "stderr",
          "text": [
            "/usr/local/lib/python3.10/dist-packages/IPython/core/pylabtools.py:151: UserWarning: constrained_layout not applied because axes sizes collapsed to zero.  Try making figure larger or axes decorations smaller.\n",
            "  fig.canvas.print_figure(bytes_io, **kw)\n"
          ]
        },
        {
          "output_type": "display_data",
          "data": {
            "text/plain": [
              "<Figure size 640x480 with 1 Axes>"
            ],
            "image/png": "[encoded data removed]"
          },
          "metadata": {}
        }
      ]
    },
    {
      "cell_type": "markdown",
      "source": [
        "F-beta score is the weighted harmonic mean of precision and recall, reaching its optimal value at 1 and its worst value at 0."
      ],
      "metadata": {
        "id": "CxAtFLk_a0As"
      }
    },
    {
      "cell_type": "code",
      "source": [
        "compare_models(reports, 'f1-beta')"
      ],
      "metadata": {
        "colab": {
          "base_uri": "https://localhost:8080/",
          "height": 377
        },
        "id": "kv4WOFF91lOt",
        "outputId": "cd84dd96-8d48-4fbf-a90f-32aff2497dbd"
      },
      "execution_count": 47,
      "outputs": [
        {
          "output_type": "display_data",
          "data": {
            "text/plain": [
              "<Figure size 5000x1000 with 0 Axes>"
            ]
          },
          "metadata": {}
        },
        {
          "output_type": "display_data",
          "data": {
            "text/plain": [
              "<Figure size 640x480 with 1 Axes>"
            ],
            "image/png": "[encoded data removed]"
          },
          "metadata": {}
        }
      ]
    },
    {
      "cell_type": "markdown",
      "source": [
        "Multinomial Naive Bayes suffers from precision on the minority classes compared to the other models but it has a higher recall and f1-beta score. Which is more important, catching harmful content or correctly identifying the type of harmful content it is? We would argue the former, because at least the model can accurately catch harmful behavior and alert faculty, who can then manually look at the alert and fix any misclassification of the alert.\n",
        "\n",
        "**Therefore, Multinomial Naive Bayes with alpha=0.1 yielded the optimal results.**"
      ],
      "metadata": {
        "id": "5qAmHiMubyxX"
      }
    },
    {
      "cell_type": "markdown",
      "source": [
        "**Classifying Any Document with Unknown Labels**"
      ],
      "metadata": {
        "id": "dVYwSpydI7Cj"
      }
    },
    {
      "cell_type": "code",
      "execution_count": null,
      "metadata": {
        "id": "Hb_NP8UETzii"
      },
      "outputs": [],
      "source": [
        " # fit the model to the entire training set\n",
        "vectorizer = TfidfVectorizer.fit(pp_docs) \n",
        "model = MultinomialNB(alpha=0.1).fit(docs_train, cls_train)\n",
        "\n",
        "def classify_unknown_text(test):\n",
        "  \"\"\" Given  and a set of documents\n",
        "  with unknown labels, predict the class labels \n",
        "  for each test document. \"\"\"\n",
        "  test = [text_pre_processing(d) for d in docs] # pre-process the test input \n",
        "  test = vectorizer.transform(test)             # create a tfidf matrix \n",
        "  cls_pred = model.predict(test)                # predict class\n",
        "\n",
        "  return cls_pred"
      ]
    }
  ],
  "metadata": {
    "colab": {
      "provenance": []
    },
    "kernelspec": {
      "display_name": "Python 3",
      "name": "python3"
    },
    "language_info": {
      "name": "python"
    }
  },
  "nbformat": 4,
  "nbformat_minor": 0
}