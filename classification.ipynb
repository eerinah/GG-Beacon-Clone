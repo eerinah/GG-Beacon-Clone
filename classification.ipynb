{
  "cells": [
    {
      "cell_type": "code",
      "execution_count": 33,
      "metadata": {
        "colab": {
          "base_uri": "https://localhost:8080/"
        },
        "id": "R_mOBdRxcWyB",
        "outputId": "a3a91880-2657-435f-f1a6-c2719e94ff8e"
      },
      "outputs": [
        {
          "output_type": "stream",
          "name": "stderr",
          "text": [
            "[nltk_data] Downloading package wordnet to /root/nltk_data...\n",
            "[nltk_data]   Package wordnet is already up-to-date!\n",
            "[nltk_data] Downloading package stopwords to /root/nltk_data...\n",
            "[nltk_data]   Package stopwords is already up-to-date!\n"
          ]
        }
      ],
      "source": [
        "import math\n",
        "import string\n",
        "import re\n",
        "import pickle\n",
        "\n",
        "import pandas as pd \n",
        "import numpy as np\n",
        "import matplotlib.pyplot as plt\n",
        "\n",
        "import nltk\n",
        "from nltk.stem import WordNetLemmatizer\n",
        "from nltk.corpus import stopwords\n",
        "from nltk.tokenize import word_tokenize\n",
        "\n",
        "from sklearn.pipeline import Pipeline\n",
        "from sklearn.feature_extraction.text import TfidfVectorizer\n",
        "from sklearn.model_selection import train_test_split\n",
        "\n",
        "\n",
        "from sklearn.tree import DecisionTreeClassifier\n",
        "\n",
        "from sklearn.linear_model import SGDClassifier\n",
        "from sklearn.naive_bayes import MultinomialNB\n",
        "from sklearn.ensemble import RandomForestClassifier\n",
        "from sklearn.linear_model import LogisticRegression\n",
        "from sklearn.model_selection import cross_val_score\n",
        "from sklearn.metrics import classification_report\n",
        "from sklearn.metrics import precision_recall_fscore_support\n",
        "\n",
        "nltk.download(\"wordnet\")\n",
        "nltk.download('stopwords')\n",
        "\n",
        "RAND_STATE = 1"
      ]
    },
    {
      "cell_type": "code",
      "execution_count": 34,
      "metadata": {
        "colab": {
          "base_uri": "https://localhost:8080/"
        },
        "id": "gChSd6XbccoQ",
        "outputId": "e2e6499f-56b6-4cd7-8ec4-d32ed626d3a4"
      },
      "outputs": [
        {
          "output_type": "stream",
          "name": "stdout",
          "text": [
            "Drive already mounted at /content/gdrive; to attempt to forcibly remount, call drive.mount(\"/content/gdrive\", force_remount=True).\n"
          ]
        }
      ],
      "source": [
        "from google.colab import drive \n",
        "drive.mount('/content/gdrive')"
      ]
    },
    {
      "cell_type": "markdown",
      "metadata": {
        "id": "izyMJoa61qR6"
      },
      "source": [
        "**Read in the input data**\n",
        "\n",
        "Class labels are \n",
        "\n",
        "0 - Normal (neutral, non-hateful negative, and positive) \n",
        "\n",
        "1 - Risk of Harming Others \n",
        "\n",
        "2 - Risk of Harming Self"
      ]
    },
    {
      "cell_type": "code",
      "execution_count": 35,
      "metadata": {
        "colab": {
          "base_uri": "https://localhost:8080/",
          "height": 419
        },
        "id": "boCkJm41cp8c",
        "outputId": "2bbf2a8e-9c6c-4316-e5b8-cfbc24c28e1f"
      },
      "outputs": [
        {
          "output_type": "execute_result",
          "data": {
            "text/plain": [
              "                                                     text  class\n",
              "0       A first feature of the present invention is a ...      0\n",
              "1       According to the present invention, it is poss...      0\n",
              "2       According to the invention, it is possible to ...      0\n",
              "3       To solve the problems described above, a proce...      0\n",
              "4       The vehicle seat device comprises front moveme...      0\n",
              "...                                                   ...    ...\n",
              "138792  Due to the specific steps, the method for prod...      0\n",
              "138793  According to the present disclosure as describ...      0\n",
              "138794  The terminal, method for controlling the termi...      0\n",
              "138795  how can you tnk it's acceptable to call people...      0\n",
              "138796  I am just thrilled to have normal, straight so...      1\n",
              "\n",
              "[138797 rows x 2 columns]"
            ],
            "text/html": [
              "\n",
              "  <div id=\"df-da4ba03e-dbc1-48cd-9ec0-ebd9457a6ec0\">\n",
              "    <div class=\"colab-df-container\">\n",
              "      <div>\n",
              "<style scoped>\n",
              "    .dataframe tbody tr th:only-of-type {\n",
              "        vertical-align: middle;\n",
              "    }\n",
              "\n",
              "    .dataframe tbody tr th {\n",
              "        vertical-align: top;\n",
              "    }\n",
              "\n",
              "    .dataframe thead th {\n",
              "        text-align: right;\n",
              "    }\n",
              "</style>\n",
              "<table border=\"1\" class=\"dataframe\">\n",
              "  <thead>\n",
              "    <tr style=\"text-align: right;\">\n",
              "      <th></th>\n",
              "      <th>text</th>\n",
              "      <th>class</th>\n",
              "    </tr>\n",
              "  </thead>\n",
              "  <tbody>\n",
              "    <tr>\n",
              "      <th>0</th>\n",
              "      <td>A first feature of the present invention is a ...</td>\n",
              "      <td>0</td>\n",
              "    </tr>\n",
              "    <tr>\n",
              "      <th>1</th>\n",
              "      <td>According to the present invention, it is poss...</td>\n",
              "      <td>0</td>\n",
              "    </tr>\n",
              "    <tr>\n",
              "      <th>2</th>\n",
              "      <td>According to the invention, it is possible to ...</td>\n",
              "      <td>0</td>\n",
              "    </tr>\n",
              "    <tr>\n",
              "      <th>3</th>\n",
              "      <td>To solve the problems described above, a proce...</td>\n",
              "      <td>0</td>\n",
              "    </tr>\n",
              "    <tr>\n",
              "      <th>4</th>\n",
              "      <td>The vehicle seat device comprises front moveme...</td>\n",
              "      <td>0</td>\n",
              "    </tr>\n",
              "    <tr>\n",
              "      <th>...</th>\n",
              "      <td>...</td>\n",
              "      <td>...</td>\n",
              "    </tr>\n",
              "    <tr>\n",
              "      <th>138792</th>\n",
              "      <td>Due to the specific steps, the method for prod...</td>\n",
              "      <td>0</td>\n",
              "    </tr>\n",
              "    <tr>\n",
              "      <th>138793</th>\n",
              "      <td>According to the present disclosure as describ...</td>\n",
              "      <td>0</td>\n",
              "    </tr>\n",
              "    <tr>\n",
              "      <th>138794</th>\n",
              "      <td>The terminal, method for controlling the termi...</td>\n",
              "      <td>0</td>\n",
              "    </tr>\n",
              "    <tr>\n",
              "      <th>138795</th>\n",
              "      <td>how can you tnk it's acceptable to call people...</td>\n",
              "      <td>0</td>\n",
              "    </tr>\n",
              "    <tr>\n",
              "      <th>138796</th>\n",
              "      <td>I am just thrilled to have normal, straight so...</td>\n",
              "      <td>1</td>\n",
              "    </tr>\n",
              "  </tbody>\n",
              "</table>\n",
              "<p>138797 rows × 2 columns</p>\n",
              "</div>\n",
              "      <button class=\"colab-df-convert\" onclick=\"convertToInteractive('df-da4ba03e-dbc1-48cd-9ec0-ebd9457a6ec0')\"\n",
              "              title=\"Convert this dataframe to an interactive table.\"\n",
              "              style=\"display:none;\">\n",
              "        \n",
              "  <svg xmlns=\"http://www.w3.org/2000/svg\" height=\"24px\"viewBox=\"0 0 24 24\"\n",
              "       width=\"24px\">\n",
              "    <path d=\"M0 0h24v24H0V0z\" fill=\"none\"/>\n",
              "    <path d=\"M18.56 5.44l.94 2.06.94-2.06 2.06-.94-2.06-.94-.94-2.06-.94 2.06-2.06.94zm-11 1L8.5 8.5l.94-2.06 2.06-.94-2.06-.94L8.5 2.5l-.94 2.06-2.06.94zm10 10l.94 2.06.94-2.06 2.06-.94-2.06-.94-.94-2.06-.94 2.06-2.06.94z\"/><path d=\"M17.41 7.96l-1.37-1.37c-.4-.4-.92-.59-1.43-.59-.52 0-1.04.2-1.43.59L10.3 9.45l-7.72 7.72c-.78.78-.78 2.05 0 2.83L4 21.41c.39.39.9.59 1.41.59.51 0 1.02-.2 1.41-.59l7.78-7.78 2.81-2.81c.8-.78.8-2.07 0-2.86zM5.41 20L4 18.59l7.72-7.72 1.47 1.35L5.41 20z\"/>\n",
              "  </svg>\n",
              "      </button>\n",
              "      \n",
              "  <style>\n",
              "    .colab-df-container {\n",
              "      display:flex;\n",
              "      flex-wrap:wrap;\n",
              "      gap: 12px;\n",
              "    }\n",
              "\n",
              "    .colab-df-convert {\n",
              "      background-color: #E8F0FE;\n",
              "      border: none;\n",
              "      border-radius: 50%;\n",
              "      cursor: pointer;\n",
              "      display: none;\n",
              "      fill: #1967D2;\n",
              "      height: 32px;\n",
              "      padding: 0 0 0 0;\n",
              "      width: 32px;\n",
              "    }\n",
              "\n",
              "    .colab-df-convert:hover {\n",
              "      background-color: #E2EBFA;\n",
              "      box-shadow: 0px 1px 2px rgba(60, 64, 67, 0.3), 0px 1px 3px 1px rgba(60, 64, 67, 0.15);\n",
              "      fill: #174EA6;\n",
              "    }\n",
              "\n",
              "    [theme=dark] .colab-df-convert {\n",
              "      background-color: #3B4455;\n",
              "      fill: #D2E3FC;\n",
              "    }\n",
              "\n",
              "    [theme=dark] .colab-df-convert:hover {\n",
              "      background-color: #434B5C;\n",
              "      box-shadow: 0px 1px 3px 1px rgba(0, 0, 0, 0.15);\n",
              "      filter: drop-shadow(0px 1px 2px rgba(0, 0, 0, 0.3));\n",
              "      fill: #FFFFFF;\n",
              "    }\n",
              "  </style>\n",
              "\n",
              "      <script>\n",
              "        const buttonEl =\n",
              "          document.querySelector('#df-da4ba03e-dbc1-48cd-9ec0-ebd9457a6ec0 button.colab-df-convert');\n",
              "        buttonEl.style.display =\n",
              "          google.colab.kernel.accessAllowed ? 'block' : 'none';\n",
              "\n",
              "        async function convertToInteractive(key) {\n",
              "          const element = document.querySelector('#df-da4ba03e-dbc1-48cd-9ec0-ebd9457a6ec0');\n",
              "          const dataTable =\n",
              "            await google.colab.kernel.invokeFunction('convertToInteractive',\n",
              "                                                     [key], {});\n",
              "          if (!dataTable) return;\n",
              "\n",
              "          const docLinkHtml = 'Like what you see? Visit the ' +\n",
              "            '<a target=\"_blank\" href=https://colab.research.google.com/notebooks/data_table.ipynb>data table notebook</a>'\n",
              "            + ' to learn more about interactive tables.';\n",
              "          element.innerHTML = '';\n",
              "          dataTable['output_type'] = 'display_data';\n",
              "          await google.colab.output.renderOutput(dataTable, element);\n",
              "          const docLink = document.createElement('div');\n",
              "          docLink.innerHTML = docLinkHtml;\n",
              "          element.appendChild(docLink);\n",
              "        }\n",
              "      </script>\n",
              "    </div>\n",
              "  </div>\n",
              "  "
            ]
          },
          "metadata": {},
          "execution_count": 35
        }
      ],
      "source": [
        "input_fn = 'gdrive/My Drive/COEN140/group-project/data/train.csv'\n",
        "preprocessed_fn = 'gdrive/My Drive/COEN140/group-project/data/preprocessed.csv'\n",
        "df = pd.read_csv(input_fn)\n",
        "df"
      ]
    },
    {
      "cell_type": "markdown",
      "metadata": {
        "id": "TCEdPNwIU5fa"
      },
      "source": [
        "# Pre-processing\n",
        "Given a DataFrame of documents and their associated class labels, clean the text in the documents by removing punctuation and words less than 4 letters (other than \"I\" and \"me\"). Then, stem the words in each document. Finally, create a CSR matrix by vectorizing the words using Count Vectorizer and using tdif for Inverse Document Frequency.\n",
        "\n",
        "\n",
        "---\n",
        "\n",
        "\n",
        "Although pronouns like \"I\", \"me\" and \"myself\" are considered to be \"stop-words\", these words are important to give context to a document to distinguish between hate and depression. \n",
        "\n",
        "\n",
        "\n",
        "> For example: \"I hate myself\" becomes \"hate\" after filtering stop words, which would be incorrectly classified as hate, rather than as depression."
      ]
    },
    {
      "cell_type": "code",
      "execution_count": 36,
      "metadata": {
        "id": "zjsvL2N8UnNL"
      },
      "outputs": [],
      "source": [
        "# split feature matrix and class labels\n",
        "docs = df['text']\n",
        "classes = df['class']"
      ]
    },
    {
      "cell_type": "code",
      "execution_count": 37,
      "metadata": {
        "id": "8CaCPnb_Bgr5"
      },
      "outputs": [],
      "source": [
        "# remove certain pronouns from stop words to give more context \n",
        "sw_nltk = stopwords.words('english')\n",
        "pronouns = ['i', 'me', 'myself', 'my','you','your','yours','yourself', \n",
        "            'yourselves','he','him','his','himself','she',\"she's\",'her',\n",
        "            'hers','herself']\n",
        "sw_nltk = [w for w in sw_nltk if w not in pronouns]\n",
        "\n",
        "# lemmatizer\n",
        "lem = WordNetLemmatizer()"
      ]
    },
    {
      "cell_type": "code",
      "source": [
        "def text_pre_processing(input_string):\n",
        "    \"\"\" Given a document (a string) preprocess the document \n",
        "    by removing punctuation, extra whitespace, and stop words \n",
        "    and return the preprocessed document. \"\"\"\n",
        "\n",
        "    stop_words = set(sw_nltk)\n",
        "    pattern = r'\\b(' + r'|'.join(stop_words) + r')\\b\\s*'\n",
        "\n",
        "\n",
        "    # remove punctuation\n",
        "    text = re.sub('[%s]' % re.escape(string.punctuation), ' ', input_string)\n",
        "\n",
        "    # remove stopwords\n",
        "    words = re.sub(pattern, '', text.lower(), flags=re.IGNORECASE)\n",
        "\n",
        "    # remove extra whitespace\n",
        "    words = re.sub('\\s+', ' ', words).strip()\n",
        "\n",
        "    words = words.split()\n",
        "    words = ' '.join([lem.lemmatize(w) for w in words])\n",
        "    return words"
      ],
      "metadata": {
        "id": "aEFM5QMq9wxX"
      },
      "execution_count": 38,
      "outputs": []
    },
    {
      "cell_type": "code",
      "source": [
        "pp_docs = [text_pre_processing(d) for d in docs]"
      ],
      "metadata": {
        "id": "Sc6y5x4bLXyg"
      },
      "execution_count": 39,
      "outputs": []
    },
    {
      "cell_type": "markdown",
      "metadata": {
        "id": "ESc1YCPw5t94"
      },
      "source": [
        "The entire input data will be fit to the same matrix to make sure that the training set and testing set will be in the same Euclidean space after the input data is split. We decided to use TF-IDF so that there is less weight given to frequently occuring words across all documents.\n"
      ]
    },
    {
      "cell_type": "code",
      "execution_count": 40,
      "metadata": {
        "id": "FmnXSJNy53aS"
      },
      "outputs": [],
      "source": [
        "# Creates a vocabulary for a inverse document frequency matrix\n",
        "# from the pre-processed documents\n",
        "vectorizer = TfidfVectorizer().fit(pp_docs)"
      ]
    },
    {
      "cell_type": "code",
      "execution_count": 41,
      "metadata": {
        "id": "fvJf_pjNqQgt"
      },
      "outputs": [],
      "source": [
        "# split the input data into training and testing sets using a 70/30 split\n",
        "docs_train, docs_test, cls_train, cls_test = train_test_split(pp_docs, classes, \n",
        "        train_size=0.7, test_size=0.3 , shuffle=True, random_state=RAND_STATE)\n",
        "\n",
        "# transform the training set and testing set into a tfidf matrix\n",
        "docs_train = vectorizer.transform(docs_train)\n",
        "docs_test = vectorizer.transform(docs_test)"
      ]
    },
    {
      "cell_type": "markdown",
      "metadata": {
        "id": "tJZ-6HKRQckW"
      },
      "source": [
        "# Model Selection "
      ]
    },
    {
      "cell_type": "markdown",
      "metadata": {
        "id": "TKqsu7mF8sS_"
      },
      "source": [
        "**Model Scoring**\n",
        "\n",
        "We're using [sklearn's balanced accuracy score](https://scikit-learn.org/stable/modules/generated/sklearn.metrics.balanced_accuracy_score.html) to compare models because the dataset is inherently imbalanced. The class of normal data (label 0) is overrepresented because in reality, most text is normal. However, we want to correctly predict the underrepresented classes. The score is defined as the average recall across each class."
      ]
    },
    {
      "cell_type": "code",
      "execution_count": 42,
      "metadata": {
        "id": "kiIpR_vcUKnv"
      },
      "outputs": [],
      "source": [
        "def score_models(models, docs_train, cls_train, score='balanced_accuracy'): \n",
        "  \"\"\" Given a list of models, training set documents and training set class\n",
        "  labels, and a cross validation score, return a list of the best models \n",
        "  based on balanced accuracy using k-fold cross validation \n",
        "  and their associated scores \"\"\"\n",
        "  \n",
        "  scores = []\n",
        "  for m in models: \n",
        "\n",
        "    # take the average balanced accuracy score for the model \n",
        "    # across k-fold cross validation\n",
        "    scores.append((m, np.mean(cross_val_score(m, X=docs_train, y=cls_train, \n",
        "                                              scoring=score))))\n",
        "  \n",
        "  # sort the scores by the model with the highest accuracy \n",
        "  scores.sort(key=lambda x: x[1], reverse=True)\n",
        "  return scores "
      ]
    },
    {
      "cell_type": "code",
      "execution_count": 43,
      "metadata": {
        "id": "fO_Fj0BpGmUf"
      },
      "outputs": [],
      "source": [
        "# keep track of the best models in a list \n",
        "best_models = []"
      ]
    },
    {
      "cell_type": "markdown",
      "metadata": {
        "id": "zw1UJC8i3RUg"
      },
      "source": [
        "**Support Vector Machine (SVM)**"
      ]
    },
    {
      "cell_type": "markdown",
      "metadata": {
        "id": "6nydTJM0J1F3"
      },
      "source": [
        "Classifying Using SVM with No Parameter Tuning"
      ]
    },
    {
      "cell_type": "code",
      "execution_count": 44,
      "metadata": {
        "id": "19PnOUB8w6PH",
        "colab": {
          "base_uri": "https://localhost:8080/"
        },
        "outputId": "7d3f7fc7-03d4-4848-fb82-c7ccecfdd05c"
      },
      "outputs": [
        {
          "output_type": "stream",
          "name": "stdout",
          "text": [
            "SVM with no parameter tuning accuracy score: 0.912502 \n",
            "SVM with no parameter tuning balanced accuracy score: 0.594555 \n"
          ]
        }
      ],
      "source": [
        "svm = SGDClassifier(loss='hinge', penalty='l2',alpha=1e-3, \n",
        "                    random_state=RAND_STATE, max_iter=5, tol=None)\n",
        "print(f'SVM with no parameter tuning accuracy score: %.6f ' \n",
        "      % score_models([svm], docs_train, cls_train, score='accuracy')[0][1])\n",
        "\n",
        "print(f'SVM with no parameter tuning balanced accuracy score: %.6f ' \n",
        "      % score_models([svm], docs_train,cls_train)[0][1])"
      ]
    },
    {
      "cell_type": "code",
      "execution_count": 45,
      "metadata": {
        "id": "ssM7bOa_3pvl",
        "colab": {
          "base_uri": "https://localhost:8080/"
        },
        "outputId": "d23e040b-0092-4caf-b8e6-87df5d90b7d5"
      },
      "outputs": [
        {
          "output_type": "stream",
          "name": "stdout",
          "text": [
            "best SVM model SGDClassifier(alpha=1e-07, max_iter=5, random_state=1, tol=None), balanced accuracy score: 0.787599\n"
          ]
        }
      ],
      "source": [
        "def get_best_svm(docs_train, cls_train): \n",
        "  \"\"\" Given a training set of documents and their class labels, \n",
        "  return a list of SVM models sorted by best balanced accuracy score \"\"\"\n",
        "\n",
        "  alpha_range = [1e-1, 1e-3, 1e-5, 1e-7]\n",
        "  penalty_range = ['l2', 'l1', 'elasticnet']\n",
        "\n",
        "\n",
        "  # linear SVM with stochastic gradient descent \n",
        "  svm_models = [SGDClassifier(loss='hinge', penalty=p,alpha=a, \n",
        "                              random_state=RAND_STATE, max_iter=5, tol=None) \n",
        "  for a in alpha_range\n",
        "  for p in penalty_range ]\n",
        "\n",
        "  return score_models(svm_models, docs_train, cls_train)\n",
        "\n",
        "best_svm = get_best_svm(docs_train, cls_train)[0]\n",
        "best_models.append(best_svm)\n",
        "print(f'best SVM model {best_svm[0]}, balanced accuracy score: %.6f' % best_svm[1])"
      ]
    },
    {
      "cell_type": "markdown",
      "metadata": {
        "id": "b-hyP40q24Gs"
      },
      "source": [
        "**Naive Bayes Classifier**"
      ]
    },
    {
      "cell_type": "code",
      "execution_count": 46,
      "metadata": {
        "id": "rdsaYgbw26h7",
        "colab": {
          "base_uri": "https://localhost:8080/"
        },
        "outputId": "f018885a-7f10-4e8b-83b5-9648c7749907"
      },
      "outputs": [
        {
          "output_type": "stream",
          "name": "stdout",
          "text": [
            "Naive Bayes with no parameter tuning accuracy score: 0.909106 \n",
            "Naive Bayes with no parameter tuning balanced accuracy score: 0.693304\n"
          ]
        }
      ],
      "source": [
        "nb = MultinomialNB()\n",
        "print(f'Naive Bayes with no parameter tuning accuracy score: %.6f ' \n",
        "      % score_models([nb], docs_train, cls_train, score='accuracy')[0][1])\n",
        "print(f'Naive Bayes with no parameter tuning balanced accuracy score: %.6f' \n",
        "      % score_models([nb], docs_train, cls_train)[0][1])"
      ]
    },
    {
      "cell_type": "code",
      "execution_count": 47,
      "metadata": {
        "id": "IZWH6MdUSS_H",
        "colab": {
          "base_uri": "https://localhost:8080/"
        },
        "outputId": "8458aa6e-0f92-40d8-869f-c77d5ffcf160"
      },
      "outputs": [
        {
          "output_type": "stream",
          "name": "stdout",
          "text": [
            "best Naive Bayes model MultinomialNB(alpha=0.1), balanced accuracy score: 0.904096\n"
          ]
        }
      ],
      "source": [
        "np.seterr(divide = 'ignore')  # ignore divide by zero \n",
        "def get_best_nb(docs_train, cls_train): \n",
        "  \"\"\" Given a training set of documents and their class labels, \n",
        "  return a list of Multinomial Naive Bayes models \n",
        "  sorted by best balanced accuracy score \"\"\"\n",
        "\n",
        "  alpha_range = [2, 1, 1e-1, 1e-3, 1e-5]\n",
        "  nb_models = [MultinomialNB(alpha=a) for a in alpha_range ]\n",
        "\n",
        "  # Naive Bayes with no smoothing\n",
        "  nb_models.append(MultinomialNB(alpha=0, force_alpha=True))\n",
        "\n",
        "  return score_models(nb_models, docs_train, cls_train)\n",
        "\n",
        "best_nb = get_best_nb(docs_train, cls_train)[0]\n",
        "best_models.append(best_nb)\n",
        "print(f'best Naive Bayes model {best_nb[0]}, balanced accuracy score: %.6f'\n",
        "         % best_nb[1] )"
      ]
    },
    {
      "cell_type": "markdown",
      "metadata": {
        "id": "6g72ck_7cINI"
      },
      "source": [
        "**Decision Tree Classifier**\n",
        "\n",
        "Tree-Based Classifiers are not practical because there are too many features for the algorithm to split on."
      ]
    },
    {
      "cell_type": "code",
      "execution_count": 48,
      "metadata": {
        "id": "cS1AyjNZoSvu"
      },
      "outputs": [],
      "source": [
        "# dtc = DecisionTreeClassifier(random_state=0)\n",
        "# print(f'Decision Tree with no parameter tuning accuracy score: %.6f ' \n",
        "#       % score_models([dtc], docs_train, cls_train, score='accuracy')[0][1])\n",
        "# print(f'Decision Tree with no parameter tuning balanced accuracy score: %.6f' \n",
        "#       % score_models([dtc], docs_train, cls_train)[0][1])"
      ]
    },
    {
      "cell_type": "code",
      "execution_count": 49,
      "metadata": {
        "id": "JeOFnK9GZp3m"
      },
      "outputs": [],
      "source": [
        "# def get_best_dtc(docs_train, cls_train):\n",
        "#   \"\"\" Given a training set of documents and their class labels, \n",
        "#   return a list of Decision Tree Classifier models \n",
        "#   sorted by best balanced accuracy score \"\"\" \n",
        "#   depth_range = (None, 1, 10, 20, 50)\n",
        "#   leaf_samples_range = (1, 10, 20, 50)\n",
        "#   impurity_decrease_range = range(0,5)\n",
        "#   dtc_models = [  DecisionTreeClassifier(random_state=0, \n",
        "#                       max_depth=d, min_samples_leaf=l, min_impurity_decrease=i) \n",
        "#   for i in impurity_decrease_range  \n",
        "#   for l in leaf_samples_range \n",
        "#   for d in depth_range ]\n",
        "\n",
        "#   return score_models(dtc_models, docs_train, cls_train)\n",
        "\n",
        "\n",
        "\n",
        "# best_dtc = get_best_dtc(docs_train, cls_train)[0]\n",
        "# best_models.append(best_dtc)\n",
        "# print(f'best Decision Tree Classifier model {best_dtc[0]}, balanced accuracy score: %.6f'\n",
        "#          % best_dtc[1] )"
      ]
    },
    {
      "cell_type": "markdown",
      "metadata": {
        "id": "9TaLTaE1861e"
      },
      "source": [
        "**Logistic Regression**"
      ]
    },
    {
      "cell_type": "code",
      "execution_count": 50,
      "metadata": {
        "id": "1kITEUHP8t2u",
        "colab": {
          "base_uri": "https://localhost:8080/"
        },
        "outputId": "9ac14ce0-fd5b-4a36-fed1-e246ebd3364c"
      },
      "outputs": [
        {
          "output_type": "stream",
          "name": "stdout",
          "text": [
            "Logistic Regression with no parameter tuning accuracy score: 0.932007 \n",
            "Logistic Regression with no parameter tuning balanced accuracy score: 0.753279\n"
          ]
        }
      ],
      "source": [
        "reg = LogisticRegression(max_iter=500)\n",
        "print(f'Logistic Regression with no parameter tuning accuracy score: %.6f ' \n",
        "      % score_models([reg], docs_train, cls_train, score='accuracy')[0][1])\n",
        "print(f'Logistic Regression with no parameter tuning balanced accuracy score: %.6f' \n",
        "      % score_models([reg], docs_train, cls_train)[0][1])"
      ]
    },
    {
      "cell_type": "code",
      "execution_count": 51,
      "metadata": {
        "id": "ERQy5ozwA4Hy",
        "colab": {
          "base_uri": "https://localhost:8080/"
        },
        "outputId": "1f807ebf-d7a5-43ff-de41-a917da3394ee"
      },
      "outputs": [
        {
          "output_type": "stream",
          "name": "stdout",
          "text": [
            "best Logistic Regression model LogisticRegression(max_iter=500, solver='newton-cg'), balanced accuracy score: 0.753331\n"
          ]
        }
      ],
      "source": [
        "def get_best_lreg(docs_train, cls_train): \n",
        "  \"\"\" Given a training set of documents and their class labels, \n",
        "  return a list of Logistic Regression models \n",
        "  sorted by best balanced accuracy score \"\"\"\n",
        "  \n",
        "  solvers = ['newton-cg', 'sag', 'saga']\n",
        "\n",
        "  reg_models = [LogisticRegression(solver=s, max_iter=500) \n",
        "  for s in solvers]\n",
        "  return score_models(reg_models, docs_train, cls_train)\n",
        "\n",
        "best_reg = get_best_lreg(docs_train, cls_train)[0]\n",
        "best_models.append(best_reg)\n",
        "print(f'best Logistic Regression model {best_reg[0]}, balanced accuracy score: %.6f'\n",
        "         % best_reg[1] )"
      ]
    },
    {
      "cell_type": "markdown",
      "metadata": {
        "id": "KMk3w7GGcyjx"
      },
      "source": [
        "# Model Evaluation"
      ]
    },
    {
      "cell_type": "markdown",
      "metadata": {
        "id": "T6uhlAG_aqEk"
      },
      "source": [
        "Sort the best models in descending order by balanced accuracy scores"
      ]
    },
    {
      "cell_type": "code",
      "execution_count": 52,
      "metadata": {
        "id": "cHI4YyiFapvE",
        "colab": {
          "base_uri": "https://localhost:8080/"
        },
        "outputId": "431c03d5-a1f6-4f30-fab5-526af94a5999"
      },
      "outputs": [
        {
          "output_type": "execute_result",
          "data": {
            "text/plain": [
              "[(MultinomialNB(alpha=0.1), 0.9040963315917108),\n",
              " (SGDClassifier(alpha=1e-07, max_iter=5, random_state=1, tol=None),\n",
              "  0.7875993963325043),\n",
              " (LogisticRegression(max_iter=500, solver='newton-cg'), 0.753330995951432)]"
            ]
          },
          "metadata": {},
          "execution_count": 52
        }
      ],
      "source": [
        "best_models.sort(key=lambda x: x[1], reverse=True)\n",
        "best_models"
      ]
    },
    {
      "cell_type": "markdown",
      "metadata": {
        "id": "vAqTErbQIjk7"
      },
      "source": [
        "**Classifying the Documents in the Test Set Using the Best Model** (according to balanced accuracy score)"
      ]
    },
    {
      "cell_type": "code",
      "execution_count": 64,
      "metadata": {
        "id": "qKWhRQWKHK9g"
      },
      "outputs": [],
      "source": [
        "def classify_test_docs(model):\n",
        "  \"\"\" Given a classifer model, return the predicted\n",
        "  class labels for the test set \"\"\"\n",
        "\n",
        "  model.fit(docs_train, cls_train)\n",
        "  return model.predict(docs_test)"
      ]
    },
    {
      "cell_type": "code",
      "source": [
        "# classify the validation set using the best model and \n",
        "# display the classification report, which shows metrics for each class \n",
        "print(classification_report(cls_test, classify_test_docs(best_models[0][0])))"
      ],
      "metadata": {
        "colab": {
          "base_uri": "https://localhost:8080/"
        },
        "id": "7mrY6gc4Ppyg",
        "outputId": "61e47a5f-7f3c-4b00-e178-d33977459c95"
      },
      "execution_count": 65,
      "outputs": [
        {
          "output_type": "stream",
          "name": "stdout",
          "text": [
            "              precision    recall  f1-score   support\n",
            "\n",
            "           0       0.99      0.87      0.93     35580\n",
            "           1       0.40      0.87      0.55      3004\n",
            "           2       0.76      0.98      0.86      3056\n",
            "\n",
            "    accuracy                           0.88     41640\n",
            "   macro avg       0.72      0.91      0.78     41640\n",
            "weighted avg       0.93      0.88      0.89     41640\n",
            "\n"
          ]
        }
      ]
    },
    {
      "cell_type": "markdown",
      "metadata": {
        "id": "COrGFPJ1OE1O"
      },
      "source": [
        "**Visualizing Precision, Recall, and F-beta Score**"
      ]
    },
    {
      "cell_type": "code",
      "execution_count": 54,
      "metadata": {
        "id": "UuxAHOVxdCZA"
      },
      "outputs": [],
      "source": [
        "model_names = [m[0] for m in best_models]\n",
        "reports = []\n",
        "for m in model_names:\n",
        "   m.fit(docs_train, cls_train)\n",
        "   y_pred = m.predict(docs_test)\n",
        "   reports.append(precision_recall_fscore_support(cls_test, y_pred))"
      ]
    },
    {
      "cell_type": "code",
      "execution_count": 55,
      "metadata": {
        "id": "Po3WQRQt0P-O"
      },
      "outputs": [],
      "source": [
        "def compare_models(reports, score): \n",
        "  score_idx = 0\n",
        "  match score: \n",
        "    case 'precision': \n",
        "      score_idx = 0\n",
        "    case 'recall': \n",
        "      score_idx = 1\n",
        "    case 'f1-beta': \n",
        "      score_idx = 2\n",
        "    case 'support': \n",
        "      score_idx = 3\n",
        "    case _: \n",
        "      score_idx = 0\n",
        "  \n",
        "  class_names = ['normal', 'risk to others', 'risk to self']\n",
        "  models_precision = [rep[score_idx] for rep in reports]\n",
        "  class_models_precision = dict(zip(model_names,\n",
        "                                    np.asarray([rep[score_idx] \n",
        "                                                for rep in reports])))\n",
        "\n",
        "\n",
        "  x = np.arange(len(class_names))  # the label locations\n",
        "  width = 0.30  # the width of the bars\n",
        "  multiplier = 0\n",
        "\n",
        "  fig, ax = plt.subplots(layout='constrained')\n",
        "\n",
        "  for attribute, measurement in class_models_precision.items():\n",
        "      offset = width * multiplier\n",
        "      rects = ax.bar(x + offset, measurement, width, label=attribute)\n",
        "      ax.bar_label(rects, padding=3)\n",
        "      multiplier += 1\n",
        "\n",
        "  # Add some text for labels, title and custom x-axis tick labels, etc.\n",
        "  ax.set_ylabel(score)\n",
        "  ax.set_title(f'{score} of models by class')\n",
        "  ax.set_xticks(x + width, class_names)\n",
        "  ax.legend(loc='upper left', ncols=3)\n",
        "  ax.set_ylim(0, 1.2)\n",
        "\n",
        "  plt.show()"
      ]
    },
    {
      "cell_type": "markdown",
      "metadata": {
        "id": "2fWrmPsHax8-"
      },
      "source": [
        "Precision is the ability of the classifier not to label as positive a sample that is negative."
      ]
    },
    {
      "cell_type": "code",
      "execution_count": 56,
      "metadata": {
        "id": "CNQUSqHt1aJ4",
        "colab": {
          "base_uri": "https://localhost:8080/",
          "height": 428
        },
        "outputId": "f32acde4-2dbe-41aa-e332-745c905dce8d"
      },
      "outputs": [
        {
          "output_type": "stream",
          "name": "stderr",
          "text": [
            "/usr/local/lib/python3.10/dist-packages/IPython/core/pylabtools.py:151: UserWarning: constrained_layout not applied because axes sizes collapsed to zero.  Try making figure larger or axes decorations smaller.\n",
            "  fig.canvas.print_figure(bytes_io, **kw)\n"
          ]
        },
        {
          "output_type": "display_data",
          "data": {
            "text/plain": [
              "<Figure size 640x480 with 1 Axes>"
            ],
            "image/png": "[encoded data removed]"
          },
          "metadata": {}
        }
      ],
      "source": [
        "compare_models(reports, 'precision')"
      ]
    },
    {
      "cell_type": "markdown",
      "metadata": {
        "id": "ODFmY2naa3Lv"
      },
      "source": [
        "Recall is the ability of the classifier to find all the positive samples."
      ]
    },
    {
      "cell_type": "code",
      "execution_count": 57,
      "metadata": {
        "id": "A5uIEeIf1isB",
        "colab": {
          "base_uri": "https://localhost:8080/",
          "height": 374
        },
        "outputId": "cfe909f5-3369-43a4-d3db-4a1ef739d94b"
      },
      "outputs": [
        {
          "output_type": "display_data",
          "data": {
            "text/plain": [
              "<Figure size 640x480 with 1 Axes>"
            ],
            "image/png": "[encoded data removed]"
          },
          "metadata": {}
        }
      ],
      "source": [
        "compare_models(reports, 'recall')"
      ]
    },
    {
      "cell_type": "markdown",
      "metadata": {
        "id": "CxAtFLk_a0As"
      },
      "source": [
        "F-beta score is the weighted harmonic mean of precision and recall, reaching its optimal value at 1 and its worst value at 0."
      ]
    },
    {
      "cell_type": "code",
      "execution_count": 58,
      "metadata": {
        "id": "kv4WOFF91lOt",
        "colab": {
          "base_uri": "https://localhost:8080/",
          "height": 472
        },
        "outputId": "3d87bd2d-2b5b-404f-ac22-218e0098381f"
      },
      "outputs": [
        {
          "output_type": "display_data",
          "data": {
            "text/plain": [
              "<Figure size 640x480 with 1 Axes>"
            ],
            "image/png": "[encoded data removed]"
          },
          "metadata": {}
        }
      ],
      "source": [
        "compare_models(reports, 'f1-beta')"
      ]
    },
    {
      "cell_type": "markdown",
      "metadata": {
        "id": "5qAmHiMubyxX"
      },
      "source": [
        "# Results\n",
        "Multinomial Naive Bayes sufferss slightly from precision on the minority classes compared to the other models but it has a higher recall. Because the output from the model is read by an analyst before a notification is sent to either a facutly member or parental guardian, we want to be able to catch most instances of harmful text. If the model is imprecise, the output can be looked at by a human and get corrected."
      ]
    },
    {
      "cell_type": "markdown",
      "metadata": {
        "id": "dVYwSpydI7Cj"
      },
      "source": [
        "**Classifying Any Document with Unknown Labels**"
      ]
    },
    {
      "cell_type": "code",
      "execution_count": 59,
      "metadata": {
        "id": "zJNXnb_DVl2q"
      },
      "outputs": [],
      "source": [
        "# fit the model to the entire training set\n",
        "model = best_models[0][0].fit(vectorizer.transform(pp_docs), classes)"
      ]
    },
    {
      "cell_type": "code",
      "execution_count": 69,
      "metadata": {
        "id": "Hb_NP8UETzii"
      },
      "outputs": [],
      "source": [
        "def classify_unknown_text(model, test):\n",
        "  \"\"\" Given  and a set of documents\n",
        "  with unknown labels, predict the class labels \n",
        "  for each test document. \"\"\"\n",
        "  test = [text_pre_processing(d) for d in test] # pre-process the test input \n",
        "  test = vectorizer.transform(test)             # create a tfidf matrix \n",
        "  cls_pred = model.predict(test)                # predict class\n",
        "\n",
        "  return cls_pred"
      ]
    },
    {
      "cell_type": "markdown",
      "source": [
        "Write the model to disk so that it doesn't need to be retrained for future use. We decided to use joblib instead of Python's pickling library because it is better at saving large NumPy arrays. "
      ],
      "metadata": {
        "id": "KDj1WQGMsKLV"
      }
    },
    {
      "cell_type": "code",
      "source": [
        "from joblib import dump, load\n",
        "model_fn = 'gdrive/My Drive/COEN140/group-project/data/model.joblib'\n",
        "dump(model, model_fn)"
      ],
      "metadata": {
        "id": "WVd68Sr2qas-",
        "colab": {
          "base_uri": "https://localhost:8080/"
        },
        "outputId": "43b349b7-cead-498d-9d53-6697e8789690"
      },
      "execution_count": 62,
      "outputs": [
        {
          "output_type": "execute_result",
          "data": {
            "text/plain": [
              "['gdrive/My Drive/COEN140/group-project/data/model.joblib']"
            ]
          },
          "metadata": {},
          "execution_count": 62
        }
      ]
    }
  ],
  "metadata": {
    "colab": {
      "machine_shape": "hm",
      "provenance": []
    },
    "kernelspec": {
      "display_name": "Python 3",
      "name": "python3"
    },
    "language_info": {
      "name": "python"
    }
  },
  "nbformat": 4,
  "nbformat_minor": 0
}