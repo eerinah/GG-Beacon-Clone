{
  "cells": [
    {
      "cell_type": "code",
      "execution_count": 43,
      "metadata": {
        "colab": {
          "base_uri": "https://localhost:8080/"
        },
        "id": "HXYDAVYe5dxq",
        "outputId": "b559c7d0-ae6a-464e-8711-bf27c2baf535"
      },
      "outputs": [
        {
          "output_type": "stream",
          "name": "stderr",
          "text": [
            "[nltk_data] Downloading package stopwords to /root/nltk_data...\n",
            "[nltk_data]   Package stopwords is already up-to-date!\n",
            "[nltk_data] Downloading package punkt to /root/nltk_data...\n",
            "[nltk_data]   Package punkt is already up-to-date!\n",
            "[nltk_data] Downloading package wordnet to /root/nltk_data...\n",
            "[nltk_data]   Package wordnet is already up-to-date!\n",
            "[nltk_data] Downloading package omw-1.4 to /root/nltk_data...\n",
            "[nltk_data]   Package omw-1.4 is already up-to-date!\n",
            "[nltk_data] Downloading package averaged_perceptron_tagger to\n",
            "[nltk_data]     /root/nltk_data...\n",
            "[nltk_data]   Package averaged_perceptron_tagger is already up-to-\n",
            "[nltk_data]       date!\n"
          ]
        }
      ],
      "source": [
        "import pandas as pd\n",
        "import re\n",
        "import string\n",
        "import numpy as np\n",
        "import matplotlib.pyplot as plt\n",
        "\n",
        "import gensim\n",
        "\n",
        "from sklearn.model_selection import train_test_split\n",
        "\n",
        "import nltk\n",
        "from nltk.tokenize import TreebankWordDetokenizer\n",
        "from nltk.corpus import stopwords\n",
        "from nltk.corpus import wordnet\n",
        "from nltk.tokenize import word_tokenize\n",
        "from nltk.stem import WordNetLemmatizer\n",
        "nltk.download('stopwords')\n",
        "nltk.download('punkt')\n",
        "nltk.download(\"wordnet\")\n",
        "nltk.download(\"omw-1.4\")\n",
        "nltk.download('averaged_perceptron_tagger')\n",
        "\n",
        "from keras.preprocessing.text import Tokenizer\n",
        "from keras.layers import Embedding\n",
        "from tensorflow.keras.preprocessing.sequence import pad_sequences\n",
        "from tensorflow.keras.utils import to_categorical\n",
        "from keras import regularizers\n",
        "from keras.models import Sequential\n",
        "from keras import layers\n",
        "from keras import backend as K\n",
        "from keras.callbacks import ModelCheckpoint\n",
        "\n",
        "from sklearn.metrics import precision_score\n",
        "from sklearn.metrics import recall_score\n",
        "from sklearn.metrics import f1_score\n",
        "from sklearn.metrics import precision_recall_fscore_support\n",
        "from sklearn.metrics import confusion_matrix, ConfusionMatrixDisplay"
      ]
    },
    {
      "cell_type": "code",
      "execution_count": 44,
      "metadata": {
        "id": "6Mp9PNWR6Fa-"
      },
      "outputs": [],
      "source": [
        "df = pd.read_csv('true.txt')"
      ]
    },
    {
      "cell_type": "markdown",
      "metadata": {
        "id": "X8xd978QAKIY"
      },
      "source": [
        "Split training data into text and classification labels"
      ]
    },
    {
      "cell_type": "code",
      "execution_count": 45,
      "metadata": {
        "id": "JjBLHYw8_oFF"
      },
      "outputs": [],
      "source": [
        "docs = df['text']\n",
        "labels = df['class']"
      ]
    },
    {
      "cell_type": "markdown",
      "metadata": {
        "id": "PGoFEMGBAtxh"
      },
      "source": [
        "Pre-processing"
      ]
    },
    {
      "cell_type": "code",
      "execution_count": 46,
      "metadata": {
        "id": "b9hNxiin_wTv"
      },
      "outputs": [],
      "source": [
        "stopwords = stopwords.words('english')\n",
        "pronouns = ['i', 'me', 'myself', 'my', 'you', 'your', 'yours', 'yourself', 'yourselves', 'he', \"he's\", 'him', 'his', 'himself',\n",
        "            'she', \"she's\", 'her', 'hers', 'herself']\n",
        "stopwords = [sw for sw in stopwords if sw not in pronouns]\n",
        "\n",
        "lemmatizer = WordNetLemmatizer()"
      ]
    },
    {
      "cell_type": "code",
      "execution_count": 47,
      "metadata": {
        "id": "mMKCZ56oQssg"
      },
      "outputs": [],
      "source": [
        "def translate_tag(tag):\n",
        "    if tag.startswith('J'):\n",
        "        return wordnet.ADJ\n",
        "    elif tag.startswith('V'):\n",
        "        return wordnet.VERB\n",
        "    elif tag.startswith('N'):\n",
        "        return wordnet.NOUN\n",
        "    elif tag.startswith('R'):\n",
        "        return wordnet.ADV\n",
        "    else:\n",
        "        return None\n",
        "\n",
        "def clean_text(data):\n",
        "    #remove stopwords\n",
        "    pattern = re.compile(r'\\b(' + r'|'.join(stopwords) + r')\\b\\s*', re.IGNORECASE)\n",
        "    data = pattern.sub('', data)\n",
        "\n",
        "    #remove URLs\n",
        "    url = re.compile(r'https?://\\S+|www\\.S+')\n",
        "    data = url.sub(r'', data)\n",
        "    \n",
        "    #remove emails\n",
        "    data = re.sub('\\S*@\\S*\\s?', '', data)\n",
        "    \n",
        "    #remove punctuation\n",
        "    translator = re.compile('[%s]' % re.escape(string.punctuation))\n",
        "    data = translator.sub(' ', data)\n",
        "\n",
        "    #remove new line characters\n",
        "    data = re.sub('\\s+', ' ', data)\n",
        "    \n",
        "    #lowercase text\n",
        "    data = data.lower()\n",
        "\n",
        "    return data\n",
        "\n",
        "def lemmatize_text(data):\n",
        "    #create tokens\n",
        "    word_tokens = word_tokenize(data)\n",
        "    pos_tagged = nltk.pos_tag(word_tokens)\n",
        "    word_tagged = list(map(lambda x: (x[0], translate_tag(x[1])), pos_tagged))\n",
        "    lemmatized_data = []\n",
        "    for word, tag in word_tagged:\n",
        "        if tag is None:\n",
        "            lemmatized_data.append(word)\n",
        "        else:\n",
        "            lemmatized_data.append(lemmatizer.lemmatize(word, tag))\n",
        "    text = ' '.join(lemmatized_data)\n",
        "    return text"
      ]
    },
    {
      "cell_type": "code",
      "execution_count": 48,
      "metadata": {
        "id": "OZ9lI_mlOqxy"
      },
      "outputs": [],
      "source": [
        "def sent_to_words(sentences):\n",
        "    for sentence in sentences:\n",
        "        yield(gensim.utils.simple_preprocess(str(sentence), deacc=True))"
      ]
    },
    {
      "cell_type": "code",
      "execution_count": 49,
      "metadata": {
        "id": "Wq92-DLlkLfH"
      },
      "outputs": [],
      "source": [
        "def detokenize(text):\n",
        "    return TreebankWordDetokenizer().detokenize(text)"
      ]
    },
    {
      "cell_type": "code",
      "execution_count": 50,
      "metadata": {
        "id": "TXDQEsTpcw9p"
      },
      "outputs": [],
      "source": [
        "temp = []\n",
        "data_to_list = docs.values\n",
        "for i in range(len(docs)):\n",
        "    data = clean_text(data_to_list[i])\n",
        "    data = lemmatize_text(data)\n",
        "    temp.append(data)"
      ]
    },
    {
      "cell_type": "code",
      "execution_count": 9,
      "metadata": {
        "id": "5iUkk_oUk2dZ"
      },
      "outputs": [],
      "source": [
        "RAND_STATE = 1\n",
        "#splitting train : test to 70 : 30 ratio\n",
        "docs_train, docs_test, labels_train, labels_test = train_test_split(temp, labels, train_size=0.7, test_size=0.3 , shuffle=True, random_state=RAND_STATE)"
      ]
    },
    {
      "cell_type": "code",
      "execution_count": 10,
      "metadata": {
        "id": "-j8VqC-TOgj1"
      },
      "outputs": [],
      "source": [
        "train_words = list(sent_to_words(docs_train))\n",
        "test_words = list(sent_to_words(docs_test))"
      ]
    },
    {
      "cell_type": "code",
      "execution_count": 11,
      "metadata": {
        "id": "BxcOffT3THWc"
      },
      "outputs": [],
      "source": [
        "train_docs_list = []\n",
        "for i in range(len(train_words)):\n",
        "    train_docs_list.append(detokenize(train_words[i]))"
      ]
    },
    {
      "cell_type": "code",
      "execution_count": 12,
      "metadata": {
        "id": "h4tqe7d-nU2T"
      },
      "outputs": [],
      "source": [
        "test_docs_list = []\n",
        "for i in range(len(test_words)):\n",
        "    test_docs_list.append(detokenize(test_words[i]))"
      ]
    },
    {
      "cell_type": "code",
      "execution_count": 13,
      "metadata": {
        "id": "UILffuD6ijOf"
      },
      "outputs": [],
      "source": [
        "max_words = 5000\n",
        "max_len = 200"
      ]
    },
    {
      "cell_type": "code",
      "execution_count": 14,
      "metadata": {
        "id": "cF10Th-K_WXD"
      },
      "outputs": [],
      "source": [
        "tokenizer = Tokenizer(num_words=max_words)\n",
        "tokenizer.fit_on_texts(train_docs_list)\n",
        "tokenizer.fit_on_texts(test_docs_list)\n",
        "train_sequences = tokenizer.texts_to_sequences(train_docs_list)\n",
        "test_sequences = tokenizer.texts_to_sequences(test_docs_list)\n",
        "train_tweets = pad_sequences(train_sequences, maxlen=max_len)\n",
        "test_tweets = pad_sequences(test_sequences, maxlen=max_len)"
      ]
    },
    {
      "cell_type": "code",
      "execution_count": 15,
      "metadata": {
        "id": "-wREH8AIi5C5"
      },
      "outputs": [],
      "source": [
        "embedding_layer = Embedding(1000, 64)"
      ]
    },
    {
      "cell_type": "code",
      "execution_count": 16,
      "metadata": {
        "id": "8AlsQ8MjsiV9"
      },
      "outputs": [],
      "source": [
        "mod_labels_train = to_categorical(labels_train, 3)\n",
        "mod_labels_test = to_categorical(labels_test, 3)"
      ]
    },
    {
      "cell_type": "code",
      "execution_count": 17,
      "metadata": {
        "colab": {
          "base_uri": "https://localhost:8080/"
        },
        "id": "gtIeLLZfsmTm",
        "outputId": "9a87fdf3-5f66-4889-f6fe-bc0e48dc912c"
      },
      "outputs": [
        {
          "output_type": "stream",
          "name": "stdout",
          "text": [
            "(97157, 3)\n",
            "(97157,)\n",
            "(41640, 3)\n",
            "(41640,)\n"
          ]
        }
      ],
      "source": [
        "print(mod_labels_train.shape)\n",
        "print(labels_train.shape)\n",
        "print(mod_labels_test.shape)\n",
        "print(labels_test.shape)"
      ]
    },
    {
      "cell_type": "code",
      "execution_count": 18,
      "metadata": {
        "colab": {
          "base_uri": "https://localhost:8080/"
        },
        "id": "bnefoRqVkGcv",
        "outputId": "9d24d82b-767c-4d78-bf15-adb27e1168a1"
      },
      "outputs": [
        {
          "output_type": "stream",
          "name": "stderr",
          "text": [
            "WARNING:tensorflow:`period` argument is deprecated. Please use `save_freq` to specify the frequency in number of batches seen.\n"
          ]
        },
        {
          "output_type": "stream",
          "name": "stdout",
          "text": [
            "Epoch 1/5\n",
            "3037/3037 [==============================] - ETA: 0s - loss: 0.1905 - accuracy: 0.9157\n",
            "Epoch 1: val_accuracy improved from -inf to 0.92325, saving model to best_model1.hdf5\n",
            "3037/3037 [==============================] - 164s 53ms/step - loss: 0.1905 - accuracy: 0.9157 - val_loss: 0.1594 - val_accuracy: 0.9232\n",
            "Epoch 2/5\n",
            "3037/3037 [==============================] - ETA: 0s - loss: 0.1598 - accuracy: 0.9254\n",
            "Epoch 2: val_accuracy improved from 0.92325 to 0.92776, saving model to best_model1.hdf5\n",
            "3037/3037 [==============================] - 161s 53ms/step - loss: 0.1598 - accuracy: 0.9254 - val_loss: 0.1543 - val_accuracy: 0.9278\n",
            "Epoch 3/5\n",
            "3036/3037 [============================>.] - ETA: 0s - loss: 0.1543 - accuracy: 0.9271\n",
            "Epoch 3: val_accuracy improved from 0.92776 to 0.92944, saving model to best_model1.hdf5\n",
            "3037/3037 [==============================] - 161s 53ms/step - loss: 0.1543 - accuracy: 0.9271 - val_loss: 0.1495 - val_accuracy: 0.9294\n",
            "Epoch 4/5\n",
            "3036/3037 [============================>.] - ETA: 0s - loss: 0.1516 - accuracy: 0.9283\n",
            "Epoch 4: val_accuracy did not improve from 0.92944\n",
            "3037/3037 [==============================] - 161s 53ms/step - loss: 0.1516 - accuracy: 0.9283 - val_loss: 0.1545 - val_accuracy: 0.9277\n",
            "Epoch 5/5\n",
            "3036/3037 [============================>.] - ETA: 0s - loss: 0.1490 - accuracy: 0.9294\n",
            "Epoch 5: val_accuracy did not improve from 0.92944\n",
            "3037/3037 [==============================] - 161s 53ms/step - loss: 0.1490 - accuracy: 0.9294 - val_loss: 0.1468 - val_accuracy: 0.9290\n"
          ]
        }
      ],
      "source": [
        "model1 = Sequential()\n",
        "model1.add(layers.Embedding(max_words, 20)) #the embedding layer\n",
        "model1.add(layers.LSTM(15,dropout=0.5)) #our LSTM layer\n",
        "model1.add(layers.Dense(3,activation='softmax'))\n",
        "\n",
        "model1.compile(optimizer='rmsprop',loss='categorical_crossentropy', metrics=['accuracy'])\n",
        "\n",
        "checkpoint1 = ModelCheckpoint(\"best_model1.hdf5\", monitor='val_accuracy', verbose=1,save_best_only=True, mode='auto', period=1,save_weights_only=False)\n",
        "history = model1.fit(train_tweets, mod_labels_train, epochs=5, validation_data=(test_tweets, mod_labels_test), callbacks=[checkpoint1])"
      ]
    },
    {
      "cell_type": "code",
      "execution_count": 19,
      "metadata": {
        "colab": {
          "base_uri": "https://localhost:8080/"
        },
        "id": "tEjFV0GtPkL1",
        "outputId": "305bdf07-4348-4b95-b0df-95cbc2d841ca"
      },
      "outputs": [
        {
          "output_type": "stream",
          "name": "stdout",
          "text": [
            "1302/1302 [==============================] - 13s 10ms/step\n"
          ]
        }
      ],
      "source": [
        "prediction1_probs = model1.predict(test_tweets)\n",
        "prediction1_classes = np.argmax(prediction1_probs, axis=1)"
      ]
    },
    {
      "cell_type": "code",
      "execution_count": 20,
      "metadata": {
        "colab": {
          "base_uri": "https://localhost:8080/"
        },
        "id": "wYOSMaZDR6Wl",
        "outputId": "4c746228-a9ac-4a9a-af46-4007bd9fe997"
      },
      "outputs": [
        {
          "output_type": "stream",
          "name": "stdout",
          "text": [
            "Precision: 0.928987\n",
            "Recall: 0.928987\n",
            "F1 score: 0.928987\n"
          ]
        }
      ],
      "source": [
        "# precision tp / (tp + fp)\n",
        "precision = precision_score(labels_test, prediction1_classes, average='micro')\n",
        "print('Precision: %f' % precision)\n",
        "# recall: tp / (tp + fn)\n",
        "recall = recall_score(labels_test, prediction1_classes, average='micro')\n",
        "print('Recall: %f' % recall)\n",
        "# f1: 2 tp / (2 tp + fp + fn)\n",
        "f1 = f1_score(labels_test, prediction1_classes, average='micro')\n",
        "print('F1 score: %f' % f1)"
      ]
    },
    {
      "cell_type": "code",
      "execution_count": 21,
      "metadata": {
        "colab": {
          "base_uri": "https://localhost:8080/"
        },
        "id": "RGAqXdD7pfIf",
        "outputId": "9476f3cf-9ec5-48c4-c408-d9b2d33e5529"
      },
      "outputs": [
        {
          "output_type": "stream",
          "name": "stderr",
          "text": [
            "WARNING:tensorflow:`period` argument is deprecated. Please use `save_freq` to specify the frequency in number of batches seen.\n"
          ]
        },
        {
          "output_type": "stream",
          "name": "stdout",
          "text": [
            "Epoch 1/5\n",
            "3037/3037 [==============================] - ETA: 0s - loss: 0.1864 - accuracy: 0.9166\n",
            "Epoch 1: val_accuracy improved from -inf to 0.92075, saving model to best_model2.hdf5\n",
            "3037/3037 [==============================] - 296s 96ms/step - loss: 0.1864 - accuracy: 0.9166 - val_loss: 0.1611 - val_accuracy: 0.9207\n",
            "Epoch 2/5\n",
            "3037/3037 [==============================] - ETA: 0s - loss: 0.1603 - accuracy: 0.9250\n",
            "Epoch 2: val_accuracy improved from 0.92075 to 0.92872, saving model to best_model2.hdf5\n",
            "3037/3037 [==============================] - 287s 95ms/step - loss: 0.1603 - accuracy: 0.9250 - val_loss: 0.1514 - val_accuracy: 0.9287\n",
            "Epoch 3/5\n",
            "3037/3037 [==============================] - ETA: 0s - loss: 0.1531 - accuracy: 0.9280\n",
            "Epoch 3: val_accuracy improved from 0.92872 to 0.92911, saving model to best_model2.hdf5\n",
            "3037/3037 [==============================] - 288s 95ms/step - loss: 0.1531 - accuracy: 0.9280 - val_loss: 0.1480 - val_accuracy: 0.9291\n",
            "Epoch 4/5\n",
            "3037/3037 [==============================] - ETA: 0s - loss: 0.1487 - accuracy: 0.9299\n",
            "Epoch 4: val_accuracy improved from 0.92911 to 0.92932, saving model to best_model2.hdf5\n",
            "3037/3037 [==============================] - 284s 94ms/step - loss: 0.1487 - accuracy: 0.9299 - val_loss: 0.1515 - val_accuracy: 0.9293\n",
            "Epoch 5/5\n",
            "3037/3037 [==============================] - ETA: 0s - loss: 0.1472 - accuracy: 0.9297\n",
            "Epoch 5: val_accuracy improved from 0.92932 to 0.93007, saving model to best_model2.hdf5\n",
            "3037/3037 [==============================] - 284s 94ms/step - loss: 0.1472 - accuracy: 0.9297 - val_loss: 0.1453 - val_accuracy: 0.9301\n"
          ]
        }
      ],
      "source": [
        "model2 = Sequential()\n",
        "model2.add(layers.Embedding(max_words, 40, input_length=max_len))\n",
        "model2.add(layers.Bidirectional(layers.LSTM(20,dropout=0.6)))\n",
        "model2.add(layers.Dense(3,activation='softmax'))\n",
        "\n",
        "model2.compile(optimizer='rmsprop',loss='categorical_crossentropy', metrics=['accuracy'])\n",
        "\n",
        "checkpoint2 = ModelCheckpoint(\"best_model2.hdf5\", monitor='val_accuracy', verbose=1,save_best_only=True, mode='auto', period=1,save_weights_only=False)\n",
        "history = model2.fit(train_tweets, mod_labels_train, epochs=5,validation_data=(test_tweets, mod_labels_test),callbacks=[checkpoint2])"
      ]
    },
    {
      "cell_type": "code",
      "execution_count": 22,
      "metadata": {
        "colab": {
          "base_uri": "https://localhost:8080/"
        },
        "id": "yx5KRam9ZVs0",
        "outputId": "af80494c-8ebc-4c60-8e80-7962efb77c7d"
      },
      "outputs": [
        {
          "output_type": "stream",
          "name": "stdout",
          "text": [
            "1302/1302 [==============================] - 23s 17ms/step\n"
          ]
        }
      ],
      "source": [
        "prediction2_probs = model2.predict(test_tweets)\n",
        "prediction2_classes = np.argmax(prediction2_probs, axis=1)"
      ]
    },
    {
      "cell_type": "code",
      "execution_count": 23,
      "metadata": {
        "colab": {
          "base_uri": "https://localhost:8080/"
        },
        "id": "spu4eo27Zdmr",
        "outputId": "c84e2a22-13e3-46ba-e62f-39c9eaa77508"
      },
      "outputs": [
        {
          "output_type": "stream",
          "name": "stdout",
          "text": [
            "Precision: 0.930067\n",
            "Recall: 0.930067\n",
            "F1 score: 0.930067\n"
          ]
        }
      ],
      "source": [
        "# precision tp / (tp + fp)\n",
        "precision = precision_score(labels_test, prediction2_classes, average='micro')\n",
        "print('Precision: %f' % precision)\n",
        "# recall: tp / (tp + fn)\n",
        "recall = recall_score(labels_test, prediction2_classes, average='micro')\n",
        "print('Recall: %f' % recall)\n",
        "# f1: 2 tp / (2 tp + fp + fn)\n",
        "f1 = f1_score(labels_test, prediction2_classes, average='micro')\n",
        "print('F1 score: %f' % f1)"
      ]
    },
    {
      "cell_type": "code",
      "execution_count": 24,
      "metadata": {
        "colab": {
          "base_uri": "https://localhost:8080/"
        },
        "id": "BwQ5DP6UsGht",
        "outputId": "61fc52b8-cf3a-4d4e-9298-ecec1520045d"
      },
      "outputs": [
        {
          "output_type": "stream",
          "name": "stdout",
          "text": [
            "Epoch 1/5\n",
            "3037/3037 [==============================] - 42s 13ms/step - loss: 0.3263 - acc: 0.8841 - val_loss: 0.2431 - val_acc: 0.9113\n",
            "Epoch 2/5\n",
            "3037/3037 [==============================] - 39s 13ms/step - loss: 0.2153 - acc: 0.9160 - val_loss: 0.2075 - val_acc: 0.9166\n",
            "Epoch 3/5\n",
            "3037/3037 [==============================] - 41s 13ms/step - loss: 0.2029 - acc: 0.9178 - val_loss: 0.2039 - val_acc: 0.9173\n",
            "Epoch 4/5\n",
            "3037/3037 [==============================] - 39s 13ms/step - loss: 0.1978 - acc: 0.9181 - val_loss: 0.1992 - val_acc: 0.9171\n",
            "Epoch 5/5\n",
            "3037/3037 [==============================] - 39s 13ms/step - loss: 0.1944 - acc: 0.9182 - val_loss: 0.1950 - val_acc: 0.9174\n"
          ]
        }
      ],
      "source": [
        "model3 = Sequential()\n",
        "model3.add(layers.Embedding(max_words, 40, input_length=max_len))\n",
        "model3.add(layers.Conv1D(20, 6, activation='relu',kernel_regularizer=regularizers.l1_l2(l1=2e-3, l2=2e-3),bias_regularizer=regularizers.l2(2e-3)))\n",
        "model3.add(layers.MaxPooling1D(5))\n",
        "model3.add(layers.Conv1D(20, 6, activation='relu',kernel_regularizer=regularizers.l1_l2(l1=2e-3, l2=2e-3),bias_regularizer=regularizers.l2(2e-3)))\n",
        "model3.add(layers.GlobalMaxPooling1D())\n",
        "model3.add(layers.Dense(3,activation='softmax'))\n",
        "\n",
        "model3.compile(optimizer='rmsprop',loss='categorical_crossentropy',metrics=['acc'])\n",
        "\n",
        "history = model3.fit(train_tweets, mod_labels_train, epochs=5,validation_data=(test_tweets, mod_labels_test))"
      ]
    },
    {
      "cell_type": "code",
      "execution_count": 25,
      "metadata": {
        "colab": {
          "base_uri": "https://localhost:8080/"
        },
        "id": "Sn__Wb1VZh5y",
        "outputId": "6cac9ad9-6281-4295-eaf0-332af9f11e8c"
      },
      "outputs": [
        {
          "output_type": "stream",
          "name": "stdout",
          "text": [
            "1302/1302 [==============================] - 4s 3ms/step\n"
          ]
        }
      ],
      "source": [
        "prediction3_probs = model3.predict(test_tweets)\n",
        "prediction3_classes = np.argmax(prediction3_probs, axis=1)"
      ]
    },
    {
      "cell_type": "code",
      "execution_count": 26,
      "metadata": {
        "id": "uar9waEnZgpt",
        "colab": {
          "base_uri": "https://localhost:8080/"
        },
        "outputId": "cf13ab48-b53f-433e-cc64-5dc044934817"
      },
      "outputs": [
        {
          "output_type": "stream",
          "name": "stdout",
          "text": [
            "Precision: 0.917363\n",
            "Recall: 0.917363\n",
            "F1 score: 0.917363\n"
          ]
        }
      ],
      "source": [
        "# precision tp / (tp + fp)\n",
        "precision = precision_score(labels_test, prediction3_classes, average='micro')\n",
        "print('Precision: %f' % precision)\n",
        "# recall: tp / (tp + fn)\n",
        "recall = recall_score(labels_test, prediction3_classes, average='micro')\n",
        "print('Recall: %f' % recall)\n",
        "# f1: 2 tp / (2 tp + fp + fn)\n",
        "f1 = f1_score(labels_test, prediction3_classes, average='micro')\n",
        "print('F1 score: %f' % f1)"
      ]
    },
    {
      "cell_type": "code",
      "source": [
        "reports = []\n",
        "reports.append(precision_recall_fscore_support(labels_test, prediction1_classes))\n",
        "reports.append(precision_recall_fscore_support(labels_test, prediction2_classes))\n",
        "reports.append(precision_recall_fscore_support(labels_test, prediction3_classes))\n",
        "print(reports)"
      ],
      "metadata": {
        "colab": {
          "base_uri": "https://localhost:8080/"
        },
        "id": "iSN-s203PRty",
        "outputId": "73d62c7f-4c0a-4126-de6d-fcdc23024822"
      },
      "execution_count": 28,
      "outputs": [
        {
          "output_type": "stream",
          "name": "stdout",
          "text": [
            "[(array([0.93957509, 0.60417947, 0.97600834]), array([0.9806914 , 0.32723036, 0.91852094]), array([0.95969306, 0.42453034, 0.94639245]), array([35580,  3004,  3056])), (array([0.93855648, 0.62638889, 0.97133106]), array([0.98313659, 0.30026631, 0.93128272]), array([0.96032944, 0.40594059, 0.9508854 ]), array([35580,  3004,  3056])), (array([0.91582944, 0.        , 0.93769257]), array([0.99662732, 0.        , 0.89626963]), array([0.9545216, 0.       , 0.9165133]), array([35580,  3004,  3056]))]\n"
          ]
        },
        {
          "output_type": "stream",
          "name": "stderr",
          "text": [
            "/usr/local/lib/python3.10/dist-packages/sklearn/metrics/_classification.py:1344: UndefinedMetricWarning: Precision and F-score are ill-defined and being set to 0.0 in labels with no predicted samples. Use `zero_division` parameter to control this behavior.\n",
            "  _warn_prf(average, modifier, msg_start, len(result))\n"
          ]
        }
      ]
    },
    {
      "cell_type": "code",
      "source": [
        "model_names = ['LSTM Layer', 'Bidirectional Layer', '1D Convolutional Neural Network']"
      ],
      "metadata": {
        "id": "94aoQnLyUxrf"
      },
      "execution_count": 30,
      "outputs": []
    },
    {
      "cell_type": "code",
      "source": [
        "def compare_models(reports, score, legend=True): \n",
        "    score_idx = 0\n",
        "    match score: \n",
        "        case 'precision': \n",
        "            score_idx = 0\n",
        "        case 'recall': \n",
        "            score_idx = 1\n",
        "        case 'f1-beta': \n",
        "            score_idx = 2\n",
        "        case 'support': \n",
        "            score_idx = 3\n",
        "        case _: \n",
        "            score_idx = 0\n",
        "  \n",
        "    class_names = ['normal', 'risk to others', 'risk to self']\n",
        "    models_precision = [rep[score_idx] for rep in reports]\n",
        "    class_models_precision = dict(zip(model_names,\n",
        "                                    np.asarray([rep[score_idx] \n",
        "                                                for rep in reports])))\n",
        "\n",
        "\n",
        "    x = np.arange(len(class_names))  # the label locations\n",
        "    width = 0.30  # the width of the bars\n",
        "    multiplier = 0\n",
        "\n",
        "    fig, ax = plt.subplots(layout='constrained')\n",
        "\n",
        "    for attribute, measurement in class_models_precision.items():\n",
        "        offset = width * multiplier\n",
        "        rects = ax.bar(x + offset, measurement, width, label=attribute)\n",
        "        ax.bar_label(rects, padding=3)\n",
        "        multiplier += 1\n",
        "\n",
        "    # Add some text for labels, title and custom x-axis tick labels, etc.\n",
        "    ax.set_ylabel(score)\n",
        "    ax.set_title(f'{score} of models by class')\n",
        "    ax.set_xticks(x + width, class_names)\n",
        "    if legend: \n",
        "        ax.legend(loc='upper left', ncols=3)\n",
        "    ax.set_ylim(0, 1.2)\n",
        "    plt.show()"
      ],
      "metadata": {
        "id": "J74fFzK4S4fT"
      },
      "execution_count": 31,
      "outputs": []
    },
    {
      "cell_type": "code",
      "source": [
        "compare_models(reports, 'precision')"
      ],
      "metadata": {
        "colab": {
          "base_uri": "https://localhost:8080/",
          "height": 508
        },
        "id": "VTnxIt0RU_Y1",
        "outputId": "9d8e2626-c072-4408-d9a7-08ab6ef23f6d"
      },
      "execution_count": 32,
      "outputs": [
        {
          "output_type": "display_data",
          "data": {
            "text/plain": [
              "<Figure size 640x480 with 1 Axes>"
            ],
            "image/png": "[encoded data removed]"
          },
          "metadata": {}
        }
      ]
    },
    {
      "cell_type": "code",
      "source": [
        "compare_models(reports, 'recall')"
      ],
      "metadata": {
        "colab": {
          "base_uri": "https://localhost:8080/",
          "height": 508
        },
        "id": "s7kWy015VGs0",
        "outputId": "776577cc-4621-4693-c599-e91e3ddc725f"
      },
      "execution_count": 33,
      "outputs": [
        {
          "output_type": "display_data",
          "data": {
            "text/plain": [
              "<Figure size 640x480 with 1 Axes>"
            ],
            "image/png": "[encoded data removed]"
          },
          "metadata": {}
        }
      ]
    },
    {
      "cell_type": "code",
      "source": [
        "cm1 = confusion_matrix(labels_test, prediction1_classes)\n",
        "print(cm1)\n",
        "cm2 = confusion_matrix(labels_test, prediction2_classes)\n",
        "print(cm2)\n",
        "cm3 = confusion_matrix(labels_test, prediction3_classes)\n",
        "print(cm3)"
      ],
      "metadata": {
        "colab": {
          "base_uri": "https://localhost:8080/"
        },
        "id": "kMoDhFsfX5_w",
        "outputId": "d8ccc11a-a181-43c6-8bc1-67051377281f"
      },
      "execution_count": 36,
      "outputs": [
        {
          "output_type": "stream",
          "name": "stdout",
          "text": [
            "[[34893   636    51]\n",
            " [ 2003   983    18]\n",
            " [  241     8  2807]]\n",
            "[[34980   535    65]\n",
            " [ 2083   902    19]\n",
            " [  207     3  2846]]\n",
            "[[35460     0   120]\n",
            " [ 2942     0    62]\n",
            " [  317     0  2739]]\n"
          ]
        }
      ]
    },
    {
      "cell_type": "code",
      "source": [
        "ConfusionMatrixDisplay.from_predictions(labels_test, prediction1_classes)"
      ],
      "metadata": {
        "colab": {
          "base_uri": "https://localhost:8080/",
          "height": 467
        },
        "id": "IvBse7mEYrNC",
        "outputId": "7d711baa-9dc8-4731-dc2e-f273e168c792"
      },
      "execution_count": 38,
      "outputs": [
        {
          "output_type": "execute_result",
          "data": {
            "text/plain": [
              "<sklearn.metrics._plot.confusion_matrix.ConfusionMatrixDisplay at 0x7f60c4e10130>"
            ]
          },
          "metadata": {},
          "execution_count": 38
        },
        {
          "output_type": "display_data",
          "data": {
            "text/plain": [
              "<Figure size 640x480 with 2 Axes>"
            ],
            "image/png": "[encoded data removed]"
          },
          "metadata": {}
        }
      ]
    }
  ],
  "metadata": {
    "colab": {
      "provenance": []
    },
    "kernelspec": {
      "display_name": "Python 3",
      "name": "python3"
    },
    "language_info": {
      "name": "python"
    }
  },
  "nbformat": 4,
  "nbformat_minor": 0
}